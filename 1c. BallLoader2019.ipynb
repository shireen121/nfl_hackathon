{
 "cells": [
  {
   "cell_type": "markdown",
   "metadata": {},
   "source": [
    "### Purpose of this script:\n",
    "\n",
    "Extract ball tracking data to accompany player tracking data for analysis and modeling"
   ]
  },
  {
   "cell_type": "code",
   "execution_count": 1,
   "metadata": {},
   "outputs": [],
   "source": [
    "import boto3\n",
    "import pandas as pd, numpy as np\n",
    "import json\n",
    "import s3fs\n",
    "import re\n",
    "from datetime import datetime\n",
    "pd.set_option('display.max_rows', None)\n",
    "pd.set_option('display.max_columns', None)\n",
    "\n",
    "s3b = 'nyg-hackathon-154843675742'\n",
    "dsource = '../common/data/'\n",
    "balldsource = 's3://nyg-hackathon-154843675742/source_file/nfl/balltracking_game_play/year=2019/'\n",
    "masterplay = 'master_play_table_v1.csv'"
   ]
  },
  {
   "cell_type": "code",
   "execution_count": 11,
   "metadata": {},
   "outputs": [],
   "source": [
    "s3 = boto3.resource('s3')\n",
    "fs = s3fs.S3FileSystem()\n",
    "\n",
    "ballfiles = fs.ls(balldsource)\n",
    "\n",
    "# Use master play file to figure out names of ball files\n",
    "plays = pd.read_csv(dsource+masterplay, low_memory=False)\n",
    "rsgames = list(plays.gameId.astype(\"str\"))\n",
    "\n",
    "rsballfiles=[k for k in ballfiles if re.search(\"(?<=play_)[0-9]*\", k).group(0) in rsgames]\n",
    "\n",
    "def loadjson(fname):\n",
    "    obj = s3.Object(s3b, re.search(\"source.*\",fname).group(0))\n",
    "    datastr = obj.get()['Body'].read().decode('utf-8')\n",
    "    datadict = json.loads(datastr)\n",
    "    return datadict"
   ]
  },
  {
   "cell_type": "code",
   "execution_count": 33,
   "metadata": {},
   "outputs": [
    {
     "data": {
      "text/plain": [
       "(38231, 42207, 54563)"
      ]
     },
     "execution_count": 33,
     "metadata": {},
     "output_type": "execute_result"
    }
   ],
   "source": [
    "len(rsgames), len(rsballfiles), len(ballfiles)"
   ]
  },
  {
   "cell_type": "code",
   "execution_count": 29,
   "metadata": {},
   "outputs": [],
   "source": [
    "balldf=pd.DataFrame(js[\"ballTrackingData\"])[[\"time\", \"x\", \"y\",\"event\"]]"
   ]
  },
  {
   "cell_type": "code",
   "execution_count": 48,
   "metadata": {},
   "outputs": [],
   "source": [
    "masterballdf = pd.DataFrame(np.zeros((len(rsballfiles),2)).astype('int'))\n",
    "masterballdf.columns = [\"gameId\", \"playId\"]\n",
    "\n",
    "gameId = list()\n",
    "playId = list()\n",
    "tracklist = list()"
   ]
  },
  {
   "cell_type": "code",
   "execution_count": 49,
   "metadata": {},
   "outputs": [
    {
     "name": "stdout",
     "output_type": "stream",
     "text": [
      "failed on 1367 nyg-hackathon-154843675742/source_file/nfl/balltracking_game_play/year=2019/balltracking_game_play_2019090807_2196.json\n",
      "failed on 2268 nyg-hackathon-154843675742/source_file/nfl/balltracking_game_play/year=2019/balltracking_game_play_2019090812_3252.json\n",
      "failed on 2536 nyg-hackathon-154843675742/source_file/nfl/balltracking_game_play/year=2019/balltracking_game_play_2019090901_193.json\n",
      "failed on 3663 nyg-hackathon-154843675742/source_file/nfl/balltracking_game_play/year=2019/balltracking_game_play_2019091505_1606.json\n",
      "failed on 4955 nyg-hackathon-154843675742/source_file/nfl/balltracking_game_play/year=2019/balltracking_game_play_2019091513_1211.json\n",
      "failed on 4957 nyg-hackathon-154843675742/source_file/nfl/balltracking_game_play/year=2019/balltracking_game_play_2019091513_1246.json\n",
      "failed on 4958 nyg-hackathon-154843675742/source_file/nfl/balltracking_game_play/year=2019/balltracking_game_play_2019091513_1270.json\n",
      "failed on 4959 nyg-hackathon-154843675742/source_file/nfl/balltracking_game_play/year=2019/balltracking_game_play_2019091513_1294.json\n",
      "failed on 4960 nyg-hackathon-154843675742/source_file/nfl/balltracking_game_play/year=2019/balltracking_game_play_2019091513_1315.json\n",
      "failed on 4962 nyg-hackathon-154843675742/source_file/nfl/balltracking_game_play/year=2019/balltracking_game_play_2019091513_1361.json\n",
      "failed on 4963 nyg-hackathon-154843675742/source_file/nfl/balltracking_game_play/year=2019/balltracking_game_play_2019091513_1388.json\n",
      "failed on 5017 nyg-hackathon-154843675742/source_file/nfl/balltracking_game_play/year=2019/balltracking_game_play_2019091513_2682.json\n",
      "failed on 5100 nyg-hackathon-154843675742/source_file/nfl/balltracking_game_play/year=2019/balltracking_game_play_2019091513_648.json\n",
      "failed on 5111 nyg-hackathon-154843675742/source_file/nfl/balltracking_game_play/year=2019/balltracking_game_play_2019091513_897.json\n",
      "failed on 5112 nyg-hackathon-154843675742/source_file/nfl/balltracking_game_play/year=2019/balltracking_game_play_2019091513_918.json\n",
      "failed on 6141 nyg-hackathon-154843675742/source_file/nfl/balltracking_game_play/year=2019/balltracking_game_play_2019092204_2260.json\n",
      "failed on 6639 nyg-hackathon-154843675742/source_file/nfl/balltracking_game_play/year=2019/balltracking_game_play_2019092207_2422.json\n",
      "failed on 8529 nyg-hackathon-154843675742/source_file/nfl/balltracking_game_play/year=2019/balltracking_game_play_2019092902_3933.json\n",
      "failed on 8531 nyg-hackathon-154843675742/source_file/nfl/balltracking_game_play/year=2019/balltracking_game_play_2019092902_3958.json\n",
      "failed on 8547 nyg-hackathon-154843675742/source_file/nfl/balltracking_game_play/year=2019/balltracking_game_play_2019092902_4436.json\n",
      "failed on 8548 nyg-hackathon-154843675742/source_file/nfl/balltracking_game_play/year=2019/balltracking_game_play_2019092902_4459.json\n",
      "failed on 9767 nyg-hackathon-154843675742/source_file/nfl/balltracking_game_play/year=2019/balltracking_game_play_2019092910_1087.json\n",
      "failed on 9801 nyg-hackathon-154843675742/source_file/nfl/balltracking_game_play/year=2019/balltracking_game_play_2019092910_2054.json\n",
      "failed on 9802 nyg-hackathon-154843675742/source_file/nfl/balltracking_game_play/year=2019/balltracking_game_play_2019092910_2088.json\n",
      "failed on 9808 nyg-hackathon-154843675742/source_file/nfl/balltracking_game_play/year=2019/balltracking_game_play_2019092910_2196.json\n",
      "failed on 9809 nyg-hackathon-154843675742/source_file/nfl/balltracking_game_play/year=2019/balltracking_game_play_2019092910_2230.json\n",
      "failed on 9813 nyg-hackathon-154843675742/source_file/nfl/balltracking_game_play/year=2019/balltracking_game_play_2019092910_2323.json\n",
      "failed on 9818 nyg-hackathon-154843675742/source_file/nfl/balltracking_game_play/year=2019/balltracking_game_play_2019092910_2439.json\n",
      "failed on 9822 nyg-hackathon-154843675742/source_file/nfl/balltracking_game_play/year=2019/balltracking_game_play_2019092910_2554.json\n",
      "failed on 9833 nyg-hackathon-154843675742/source_file/nfl/balltracking_game_play/year=2019/balltracking_game_play_2019092910_2824.json\n",
      "failed on 9835 nyg-hackathon-154843675742/source_file/nfl/balltracking_game_play/year=2019/balltracking_game_play_2019092910_2858.json\n",
      "failed on 9844 nyg-hackathon-154843675742/source_file/nfl/balltracking_game_play/year=2019/balltracking_game_play_2019092910_3168.json\n",
      "failed on 9849 nyg-hackathon-154843675742/source_file/nfl/balltracking_game_play/year=2019/balltracking_game_play_2019092910_3260.json\n",
      "failed on 9855 nyg-hackathon-154843675742/source_file/nfl/balltracking_game_play/year=2019/balltracking_game_play_2019092910_3427.json\n",
      "failed on 9861 nyg-hackathon-154843675742/source_file/nfl/balltracking_game_play/year=2019/balltracking_game_play_2019092910_36.json\n",
      "failed on 9880 nyg-hackathon-154843675742/source_file/nfl/balltracking_game_play/year=2019/balltracking_game_play_2019092910_4008.json\n",
      "failed on 9884 nyg-hackathon-154843675742/source_file/nfl/balltracking_game_play/year=2019/balltracking_game_play_2019092910_4139.json\n",
      "failed on 9898 nyg-hackathon-154843675742/source_file/nfl/balltracking_game_play/year=2019/balltracking_game_play_2019092910_536.json\n",
      "failed on 9899 nyg-hackathon-154843675742/source_file/nfl/balltracking_game_play/year=2019/balltracking_game_play_2019092910_567.json\n",
      "failed on 11954 nyg-hackathon-154843675742/source_file/nfl/balltracking_game_play/year=2019/balltracking_game_play_2019100608_1835.json\n",
      "failed on 13018 nyg-hackathon-154843675742/source_file/nfl/balltracking_game_play/year=2019/balltracking_game_play_2019101000_3695.json\n",
      "failed on 14233 nyg-hackathon-154843675742/source_file/nfl/balltracking_game_play/year=2019/balltracking_game_play_2019101306_75.json\n",
      "failed on 14597 nyg-hackathon-154843675742/source_file/nfl/balltracking_game_play/year=2019/balltracking_game_play_2019101309_1557.json\n",
      "failed on 14603 nyg-hackathon-154843675742/source_file/nfl/balltracking_game_play/year=2019/balltracking_game_play_2019101309_1673.json\n",
      "failed on 14622 nyg-hackathon-154843675742/source_file/nfl/balltracking_game_play/year=2019/balltracking_game_play_2019101309_2151.json\n",
      "failed on 14647 nyg-hackathon-154843675742/source_file/nfl/balltracking_game_play/year=2019/balltracking_game_play_2019101309_2691.json\n",
      "failed on 14648 nyg-hackathon-154843675742/source_file/nfl/balltracking_game_play/year=2019/balltracking_game_play_2019101309_2712.json\n",
      "failed on 14660 nyg-hackathon-154843675742/source_file/nfl/balltracking_game_play/year=2019/balltracking_game_play_2019101309_3005.json\n",
      "failed on 14662 nyg-hackathon-154843675742/source_file/nfl/balltracking_game_play/year=2019/balltracking_game_play_2019101309_3047.json\n",
      "failed on 14696 nyg-hackathon-154843675742/source_file/nfl/balltracking_game_play/year=2019/balltracking_game_play_2019101309_3786.json\n",
      "failed on 14697 nyg-hackathon-154843675742/source_file/nfl/balltracking_game_play/year=2019/balltracking_game_play_2019101309_3805.json\n",
      "failed on 14698 nyg-hackathon-154843675742/source_file/nfl/balltracking_game_play/year=2019/balltracking_game_play_2019101309_3829.json\n",
      "failed on 14699 nyg-hackathon-154843675742/source_file/nfl/balltracking_game_play/year=2019/balltracking_game_play_2019101309_3850.json\n",
      "failed on 14824 nyg-hackathon-154843675742/source_file/nfl/balltracking_game_play/year=2019/balltracking_game_play_2019101310_3115.json\n",
      "failed on 17932 nyg-hackathon-154843675742/source_file/nfl/balltracking_game_play/year=2019/balltracking_game_play_2019102701_4491.json\n",
      "failed on 21913 nyg-hackathon-154843675742/source_file/nfl/balltracking_game_play/year=2019/balltracking_game_play_2019110311_2242.json\n",
      "failed on 21914 nyg-hackathon-154843675742/source_file/nfl/balltracking_game_play/year=2019/balltracking_game_play_2019110311_2291.json\n",
      "failed on 21937 nyg-hackathon-154843675742/source_file/nfl/balltracking_game_play/year=2019/balltracking_game_play_2019110311_2859.json\n",
      "failed on 21938 nyg-hackathon-154843675742/source_file/nfl/balltracking_game_play/year=2019/balltracking_game_play_2019110311_2883.json\n",
      "failed on 22028 nyg-hackathon-154843675742/source_file/nfl/balltracking_game_play/year=2019/balltracking_game_play_2019110311_909.json\n",
      "failed on 22540 nyg-hackathon-154843675742/source_file/nfl/balltracking_game_play/year=2019/balltracking_game_play_2019111000_986.json\n"
     ]
    },
    {
     "name": "stdout",
     "output_type": "stream",
     "text": [
      "failed on 23828 nyg-hackathon-154843675742/source_file/nfl/balltracking_game_play/year=2019/balltracking_game_play_2019111008_3674.json\n",
      "failed on 26662 nyg-hackathon-154843675742/source_file/nfl/balltracking_game_play/year=2019/balltracking_game_play_2019111800_2631.json\n",
      "failed on 26742 nyg-hackathon-154843675742/source_file/nfl/balltracking_game_play/year=2019/balltracking_game_play_2019111800_4554.json\n",
      "failed on 32700 nyg-hackathon-154843675742/source_file/nfl/balltracking_game_play/year=2019/balltracking_game_play_2019120805_1713.json\n",
      "failed on 32709 nyg-hackathon-154843675742/source_file/nfl/balltracking_game_play/year=2019/balltracking_game_play_2019120805_1949.json\n",
      "failed on 32731 nyg-hackathon-154843675742/source_file/nfl/balltracking_game_play/year=2019/balltracking_game_play_2019120805_2542.json\n",
      "failed on 32732 nyg-hackathon-154843675742/source_file/nfl/balltracking_game_play/year=2019/balltracking_game_play_2019120805_2563.json\n",
      "failed on 32733 nyg-hackathon-154843675742/source_file/nfl/balltracking_game_play/year=2019/balltracking_game_play_2019120805_2584.json\n",
      "failed on 32740 nyg-hackathon-154843675742/source_file/nfl/balltracking_game_play/year=2019/balltracking_game_play_2019120805_2787.json\n",
      "failed on 32741 nyg-hackathon-154843675742/source_file/nfl/balltracking_game_play/year=2019/balltracking_game_play_2019120805_2808.json\n",
      "failed on 32742 nyg-hackathon-154843675742/source_file/nfl/balltracking_game_play/year=2019/balltracking_game_play_2019120805_2832.json\n",
      "failed on 32760 nyg-hackathon-154843675742/source_file/nfl/balltracking_game_play/year=2019/balltracking_game_play_2019120805_324.json\n",
      "failed on 32767 nyg-hackathon-154843675742/source_file/nfl/balltracking_game_play/year=2019/balltracking_game_play_2019120805_3381.json\n",
      "failed on 32768 nyg-hackathon-154843675742/source_file/nfl/balltracking_game_play/year=2019/balltracking_game_play_2019120805_3402.json\n",
      "failed on 32769 nyg-hackathon-154843675742/source_file/nfl/balltracking_game_play/year=2019/balltracking_game_play_2019120805_3423.json\n",
      "failed on 32770 nyg-hackathon-154843675742/source_file/nfl/balltracking_game_play/year=2019/balltracking_game_play_2019120805_3444.json\n",
      "failed on 32772 nyg-hackathon-154843675742/source_file/nfl/balltracking_game_play/year=2019/balltracking_game_play_2019120805_3465.json\n",
      "failed on 32773 nyg-hackathon-154843675742/source_file/nfl/balltracking_game_play/year=2019/balltracking_game_play_2019120805_3492.json\n",
      "failed on 32791 nyg-hackathon-154843675742/source_file/nfl/balltracking_game_play/year=2019/balltracking_game_play_2019120805_3875.json\n",
      "failed on 32792 nyg-hackathon-154843675742/source_file/nfl/balltracking_game_play/year=2019/balltracking_game_play_2019120805_3899.json\n",
      "failed on 32796 nyg-hackathon-154843675742/source_file/nfl/balltracking_game_play/year=2019/balltracking_game_play_2019120805_3969.json\n",
      "failed on 32809 nyg-hackathon-154843675742/source_file/nfl/balltracking_game_play/year=2019/balltracking_game_play_2019120805_4282.json\n",
      "failed on 32810 nyg-hackathon-154843675742/source_file/nfl/balltracking_game_play/year=2019/balltracking_game_play_2019120805_4323.json\n",
      "failed on 32811 nyg-hackathon-154843675742/source_file/nfl/balltracking_game_play/year=2019/balltracking_game_play_2019120805_4347.json\n",
      "failed on 32825 nyg-hackathon-154843675742/source_file/nfl/balltracking_game_play/year=2019/balltracking_game_play_2019120805_712.json\n",
      "failed on 32827 nyg-hackathon-154843675742/source_file/nfl/balltracking_game_play/year=2019/balltracking_game_play_2019120805_733.json\n",
      "failed on 35123 nyg-hackathon-154843675742/source_file/nfl/balltracking_game_play/year=2019/balltracking_game_play_2019121503_4177.json\n",
      "failed on 35841 nyg-hackathon-154843675742/source_file/nfl/balltracking_game_play/year=2019/balltracking_game_play_2019121508_2221.json\n",
      "failed on 41242 nyg-hackathon-154843675742/source_file/nfl/balltracking_game_play/year=2019/balltracking_game_play_2019122910_2144.json\n",
      "failed on 41691 nyg-hackathon-154843675742/source_file/nfl/balltracking_game_play/year=2019/balltracking_game_play_2019122912_731.json\n"
     ]
    }
   ],
   "source": [
    "for k, file in enumerate(rsballfiles):\n",
    "        \n",
    "    try:\n",
    "        js = loadjson(file)\n",
    "        \n",
    "        balldf=pd.DataFrame(js[\"ballTrackingData\"])[[\"time\", \"x\", \"y\",\"event\"]]\n",
    "\n",
    "        # Presuming the data is in proper time order, with no missing timeslices, we don't actually need to parse time...\n",
    "        #####\n",
    "        # balldf['dt']=[datetime.strptime(x[:-1], \"%Y-%m-%dT%H:%M:%S.%f\") for x in balldf.time]\n",
    "        # balldf.drop('time', axis=1, inplace=True)\n",
    "        # balldf['snaprel']=((balldf.dt-balldf.dt.iloc[0]).astype('int')//10e7).astype('int32')\n",
    "\n",
    "        try:\n",
    "            snaprow=(balldf.event=='ball_snap').values.nonzero()[0][0]\n",
    "            \n",
    "            balldf=balldf.iloc[snaprow:]\n",
    "            balldf.drop(['event', 'time'], axis=1, inplace=True)\n",
    "\n",
    "            gameId.append(js['gameId'])\n",
    "            playId.append(js['gsisPlayId'])\n",
    "            tracklist.append(balldf.values)\n",
    "        except:\n",
    "            next\n",
    "        \n",
    "    except:\n",
    "        print(\"failed on \"+str(k)+\" \"+file)"
   ]
  },
  {
   "cell_type": "code",
   "execution_count": 51,
   "metadata": {},
   "outputs": [],
   "source": [
    "masterdf = pd.DataFrame({\"gameId\": gameId, \"playId\": playId, \"ballTrack\": tracklist})"
   ]
  },
  {
   "cell_type": "code",
   "execution_count": 53,
   "metadata": {},
   "outputs": [
    {
     "name": "stdout",
     "output_type": "stream",
     "text": [
      "<class 'pandas.core.frame.DataFrame'>\n",
      "RangeIndex: 38658 entries, 0 to 38657\n",
      "Data columns (total 3 columns):\n",
      " #   Column     Non-Null Count  Dtype \n",
      "---  ------     --------------  ----- \n",
      " 0   gameId     38658 non-null  int64 \n",
      " 1   playId     38658 non-null  int64 \n",
      " 2   ballTrack  38658 non-null  object\n",
      "dtypes: int64(2), object(1)\n",
      "memory usage: 906.2+ KB\n"
     ]
    }
   ],
   "source": [
    "masterdf.info()"
   ]
  },
  {
   "cell_type": "code",
   "execution_count": 54,
   "metadata": {
    "scrolled": true
   },
   "outputs": [
    {
     "data": {
      "text/html": [
       "<div>\n",
       "<style scoped>\n",
       "    .dataframe tbody tr th:only-of-type {\n",
       "        vertical-align: middle;\n",
       "    }\n",
       "\n",
       "    .dataframe tbody tr th {\n",
       "        vertical-align: top;\n",
       "    }\n",
       "\n",
       "    .dataframe thead th {\n",
       "        text-align: right;\n",
       "    }\n",
       "</style>\n",
       "<table border=\"1\" class=\"dataframe\">\n",
       "  <thead>\n",
       "    <tr style=\"text-align: right;\">\n",
       "      <th></th>\n",
       "      <th>gameId</th>\n",
       "      <th>playId</th>\n",
       "      <th>ballTrack</th>\n",
       "    </tr>\n",
       "  </thead>\n",
       "  <tbody>\n",
       "    <tr>\n",
       "      <th>0</th>\n",
       "      <td>2019090500</td>\n",
       "      <td>1001</td>\n",
       "      <td>[[38.79, 29.65], [38.79, 29.65], [37.32, 29.71...</td>\n",
       "    </tr>\n",
       "    <tr>\n",
       "      <th>1</th>\n",
       "      <td>2019090500</td>\n",
       "      <td>1023</td>\n",
       "      <td>[[38.78, 29.74], [38.78, 29.74], [38.78, 29.74...</td>\n",
       "    </tr>\n",
       "    <tr>\n",
       "      <th>2</th>\n",
       "      <td>2019090500</td>\n",
       "      <td>1082</td>\n",
       "      <td>[[84.16, 29.86], [84.17, 29.86], [84.18, 29.86...</td>\n",
       "    </tr>\n",
       "    <tr>\n",
       "      <th>3</th>\n",
       "      <td>2019090500</td>\n",
       "      <td>1106</td>\n",
       "      <td>[[37.96, 30.11], [38.09, 30.2], [38.26, 30.32]...</td>\n",
       "    </tr>\n",
       "    <tr>\n",
       "      <th>4</th>\n",
       "      <td>2019090500</td>\n",
       "      <td>1135</td>\n",
       "      <td>[[28.86, 23.91], [28.91, 23.92], [29.0, 23.94]...</td>\n",
       "    </tr>\n",
       "  </tbody>\n",
       "</table>\n",
       "</div>"
      ],
      "text/plain": [
       "       gameId  playId                                          ballTrack\n",
       "0  2019090500    1001  [[38.79, 29.65], [38.79, 29.65], [37.32, 29.71...\n",
       "1  2019090500    1023  [[38.78, 29.74], [38.78, 29.74], [38.78, 29.74...\n",
       "2  2019090500    1082  [[84.16, 29.86], [84.17, 29.86], [84.18, 29.86...\n",
       "3  2019090500    1106  [[37.96, 30.11], [38.09, 30.2], [38.26, 30.32]...\n",
       "4  2019090500    1135  [[28.86, 23.91], [28.91, 23.92], [29.0, 23.94]..."
      ]
     },
     "execution_count": 54,
     "metadata": {},
     "output_type": "execute_result"
    }
   ],
   "source": [
    "masterdf.head()"
   ]
  },
  {
   "cell_type": "code",
   "execution_count": 57,
   "metadata": {},
   "outputs": [],
   "source": [
    "import pickle\n",
    "\n",
    "with open('../common/data/balltrack.pkl', 'wb') as f:\n",
    "    pickle.dump(masterdf, f)"
   ]
  }
 ],
 "metadata": {
  "kernelspec": {
   "display_name": "conda_python3",
   "language": "python",
   "name": "conda_python3"
  },
  "language_info": {
   "codemirror_mode": {
    "name": "ipython",
    "version": 3
   },
   "file_extension": ".py",
   "mimetype": "text/x-python",
   "name": "python",
   "nbconvert_exporter": "python",
   "pygments_lexer": "ipython3",
   "version": "3.6.10"
  }
 },
 "nbformat": 4,
 "nbformat_minor": 4
}
