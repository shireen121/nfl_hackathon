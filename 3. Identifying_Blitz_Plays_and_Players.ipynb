{
 "cells": [
  {
   "cell_type": "code",
   "execution_count": 50,
   "metadata": {},
   "outputs": [],
   "source": [
    "import boto3\n",
    "import pandas as pd\n",
    "import numpy as np\n",
    "import math\n",
    "from sagemaker import get_execution_role\n",
    "import json\n",
    "import s3fs\n",
    "import gzip\n",
    "import pickle\n",
    "from datetime import datetime "
   ]
  },
  {
   "cell_type": "code",
   "execution_count": 51,
   "metadata": {},
   "outputs": [],
   "source": [
    "#Pull in game data\n",
    "out_path = '../common/data/'\n",
    "\n",
    "#player data\n",
    "player = pd.read_pickle(out_path + 'player_play_rect.pkl')\n",
    "#play data\n",
    "play = pd.read_pickle(out_path + 'withTOR_play_rect.pkl')\n",
    "play_df = pd.DataFrame(play, columns=['playId', 'gameId', 'play_type',\n",
    "                                      'yardlineNumber', 'playDesc', \n",
    "                                      'dInBox','dRushers', 'sack', 'qb_hit', 'ReleaseTime']) \n",
    "#ball position data\n",
    "ball_pos = pd.read_pickle(out_path + 'ball_rect.pkl')"
   ]
  },
  {
   "cell_type": "code",
   "execution_count": 52,
   "metadata": {},
   "outputs": [
    {
     "data": {
      "text/plain": [
       "Index(['gameId', 'playId', 'home_team', 'away_team', 'homeScore',\n",
       "       'visitorScore', 'quarter', 'gameClock', 'startTime', 'endTime',\n",
       "       'snapTime', 'possessionTeam', 'playDesc', 'playType', 'playTypeCode',\n",
       "       'down', 'ydstogo', 'play_type', 'isGoalToGo', 'yardlineNumber',\n",
       "       'yardlineSide', 'absoluteYardlineNumber', 'isRedzonePlay', 'isScoring',\n",
       "       'isPenalty', 'oForm', 'dInBox', 'RB', 'TE', 'WR', 'DL', 'LB', 'DB',\n",
       "       'dRushers', 'shotgun', 'no_huddle', 'qb_dropback', 'qb_scramble',\n",
       "       'pass_location', 'air_yards', 'run_location', 'run_gap', 'ep', 'epa',\n",
       "       'wp', 'home_wp', 'wpa', 'first_down_rush', 'first_down_pass',\n",
       "       'third_down_converted', 'third_down_failed', 'fourth_down_converted',\n",
       "       'fourth_down_failed', 'incomplete_pass', 'interception',\n",
       "       'fumble_forced', 'tackled_for_loss', 'fumble_lost', 'qb_hit',\n",
       "       'rush_attempt', 'pass_attempt', 'sack', 'fumble', 'complete_pass',\n",
       "       'tackle_for_loss_1_player_id', 'tackle_for_loss_1_player_name',\n",
       "       'qb_hit_1_player_id', 'qb_hit_1_player_name', 'qb_hit_2_player_id',\n",
       "       'qb_hit_2_player_name', 'forced_fumble_player_1_player_id',\n",
       "       'forced_fumble_player_1_player_name', 'dir', 'snapPos', 'rectYardline',\n",
       "       'ReleaseTime'],\n",
       "      dtype='object')"
      ]
     },
     "execution_count": 52,
     "metadata": {},
     "output_type": "execute_result"
    }
   ],
   "source": [
    "play.columns"
   ]
  },
  {
   "cell_type": "code",
   "execution_count": 53,
   "metadata": {
    "scrolled": true
   },
   "outputs": [
    {
     "data": {
      "text/plain": [
       "(575435, 18)"
      ]
     },
     "execution_count": 53,
     "metadata": {},
     "output_type": "execute_result"
    }
   ],
   "source": [
    "#merge with d in box + rushers\n",
    "d = pd.merge(player, play_df, how='inner', on=['playId', 'gameId'])\n",
    "d1 = pd.DataFrame(d, columns=['playId', 'gameId', 'displayName', 'position', 'positionGroup', 'coordinates', 'play_type', 'yardlineNumber', 'playDesc', 'dInBox','dRushers', 'sack', 'qb_hit', 'snapTime', 'ReleaseTime'])\n",
    "df_merged = d1.merge(ball_pos, on=['playId', 'gameId'], how='inner') \n",
    "# ds_subs = d1[0:5000]\n",
    "df_merged.shape"
   ]
  },
  {
   "cell_type": "code",
   "execution_count": 54,
   "metadata": {},
   "outputs": [],
   "source": [
    "df_merged['unique_key'] = df_merged['gameId'].astype(str) + \"_\" + df_merged['playId'].astype(str)"
   ]
  },
  {
   "cell_type": "code",
   "execution_count": 55,
   "metadata": {},
   "outputs": [
    {
     "data": {
      "text/plain": [
       "26154"
      ]
     },
     "execution_count": 55,
     "metadata": {},
     "output_type": "execute_result"
    }
   ],
   "source": [
    "df_merged.unique_key.nunique()"
   ]
  },
  {
   "cell_type": "code",
   "execution_count": 56,
   "metadata": {},
   "outputs": [],
   "source": [
    "count_chk = df_merged.groupby(['unique_key'])['position'].count().reset_index()"
   ]
  },
  {
   "cell_type": "code",
   "execution_count": 57,
   "metadata": {},
   "outputs": [
    {
     "data": {
      "text/plain": [
       "position\n",
       "21       80\n",
       "22    25968\n",
       "23       89\n",
       "24       15\n",
       "26        2\n",
       "Name: unique_key, dtype: int64"
      ]
     },
     "execution_count": 57,
     "metadata": {},
     "output_type": "execute_result"
    }
   ],
   "source": [
    "count_chk.groupby('position')['unique_key'].count()"
   ]
  },
  {
   "cell_type": "code",
   "execution_count": 58,
   "metadata": {},
   "outputs": [],
   "source": [
    "drop_keys = count_chk[count_chk['position'] != 22]['unique_key'].to_list()"
   ]
  },
  {
   "cell_type": "code",
   "execution_count": 59,
   "metadata": {
    "scrolled": true
   },
   "outputs": [],
   "source": [
    "df_merged = df_merged[~df_merged['unique_key'].isin(drop_keys)]"
   ]
  },
  {
   "cell_type": "code",
   "execution_count": 60,
   "metadata": {},
   "outputs": [
    {
     "data": {
      "text/plain": [
       "25968"
      ]
     },
     "execution_count": 60,
     "metadata": {},
     "output_type": "execute_result"
    }
   ],
   "source": [
    "df_merged.unique_key.nunique()"
   ]
  },
  {
   "cell_type": "markdown",
   "metadata": {},
   "source": [
    "# Create Blitzing Features"
   ]
  },
  {
   "cell_type": "code",
   "execution_count": 61,
   "metadata": {},
   "outputs": [],
   "source": [
    "df_merged = df_merged[df_merged['coordinates'].map(len) > 50]"
   ]
  },
  {
   "cell_type": "code",
   "execution_count": 62,
   "metadata": {},
   "outputs": [
    {
     "data": {
      "text/plain": [
       "count                         318560\n",
       "unique                         14480\n",
       "top       2019-10-27 17:05:13.184000\n",
       "freq                              22\n",
       "first     2019-09-06 00:24:04.625000\n",
       "last      2019-12-30 04:23:57.870000\n",
       "Name: ReleaseTime, dtype: object"
      ]
     },
     "execution_count": 62,
     "metadata": {},
     "output_type": "execute_result"
    }
   ],
   "source": [
    "df_merged.ReleaseTime.describe()"
   ]
  },
  {
   "cell_type": "code",
   "execution_count": 112,
   "metadata": {},
   "outputs": [
    {
     "ename": "SyntaxError",
     "evalue": "invalid syntax (<ipython-input-112-2d4297fa3791>, line 1)",
     "output_type": "error",
     "traceback": [
      "\u001b[0;36m  File \u001b[0;32m\"<ipython-input-112-2d4297fa3791>\"\u001b[0;36m, line \u001b[0;32m1\u001b[0m\n\u001b[0;31m    df_merged['releaseIdx'] = df_merged.apply(lambda row: math.ceil((row.ReleaseTime - datetime.strptime(row.snapTime, '%Y-%m-%d %H:%M:%S.%f')).total_seconds() * 10) + 20 if row.ReleaseTime.notnull() , axis = 1)\u001b[0m\n\u001b[0m                                                                                                                                                                                                        ^\u001b[0m\n\u001b[0;31mSyntaxError\u001b[0m\u001b[0;31m:\u001b[0m invalid syntax\n"
     ]
    }
   ],
   "source": [
    "df_merged['releaseIdx'] = df_merged.apply(lambda row: math.ceil((row.ReleaseTime - datetime.strptime(row.snapTime, '%Y-%m-%d %H:%M:%S.%f')).total_seconds() * 10) + 20, axis = 1)\n"
   ]
  },
  {
   "cell_type": "code",
   "execution_count": 64,
   "metadata": {},
   "outputs": [
    {
     "name": "stdout",
     "output_type": "stream",
     "text": [
      "<class 'pandas.core.frame.DataFrame'>\n",
      "Int64Index: 564322 entries, 0 to 575434\n",
      "Data columns (total 31 columns):\n",
      " #   Column          Non-Null Count   Dtype         \n",
      "---  ------          --------------   -----         \n",
      " 0   playId          564322 non-null  int64         \n",
      " 1   gameId          564322 non-null  int64         \n",
      " 2   displayName     564322 non-null  object        \n",
      " 3   position        564322 non-null  object        \n",
      " 4   positionGroup   564322 non-null  object        \n",
      " 5   coordinates     564322 non-null  object        \n",
      " 6   play_type       563376 non-null  object        \n",
      " 7   yardlineNumber  556820 non-null  float64       \n",
      " 8   playDesc        564322 non-null  object        \n",
      " 9   dInBox          563134 non-null  float64       \n",
      " 10  dRushers        322674 non-null  float64       \n",
      " 11  sack            563376 non-null  float64       \n",
      " 12  qb_hit          563376 non-null  float64       \n",
      " 13  snapTime        564322 non-null  object        \n",
      " 14  ReleaseTime     318560 non-null  datetime64[ns]\n",
      " 15  ballTrack       564322 non-null  object        \n",
      " 16  dir             564322 non-null  float64       \n",
      " 17  snapPos         564322 non-null  object        \n",
      " 18  unique_key      564322 non-null  object        \n",
      " 19  x_snap          564322 non-null  float64       \n",
      " 20  y_snap          564322 non-null  float64       \n",
      " 21  x_snap_ball     564322 non-null  float64       \n",
      " 22  y_snap_ball     564322 non-null  float64       \n",
      " 23  x_1s            564322 non-null  float64       \n",
      " 24  y_1s            564322 non-null  float64       \n",
      " 25  x_3s            564322 non-null  float64       \n",
      " 26  y_3s            564322 non-null  float64       \n",
      " 27  x_2s            564322 non-null  float64       \n",
      " 28  y_2s            564322 non-null  float64       \n",
      " 29  x_end           564322 non-null  float64       \n",
      " 30  y_end           564322 non-null  float64       \n",
      "dtypes: datetime64[ns](1), float64(18), int64(2), object(10)\n",
      "memory usage: 137.8+ MB\n",
      "None\n"
     ]
    }
   ],
   "source": [
    "#pull xy coordinates for snap & play end\n",
    "x=0\n",
    "for i in df_merged:\n",
    "    x_snap = lambda x: x[20][0]\n",
    "    y_snap = lambda x: x[20][1]\n",
    "    ball_x_snap = lambda x: x[20][0]\n",
    "    ball_y_snap = lambda x: x[20][1]\n",
    "    x_1s = lambda x: x[30][0]\n",
    "    y_1s = lambda x: x[30][1]\n",
    "    x_3s = lambda x: x[50][0]\n",
    "    y_3s = lambda x: x[50][1]\n",
    "    x_2s = lambda x: x[40][0]\n",
    "    y_2s = lambda x: x[40][1]\n",
    "    x_end = lambda x: x[-11][0]\n",
    "    y_end = lambda x: x[-11][1]\n",
    "    \n",
    "    df_merged['x_snap'] = df_merged['coordinates'].apply(x_snap)\n",
    "    df_merged['y_snap'] = df_merged['coordinates'].apply(y_snap)\n",
    "    df_merged['x_snap_ball'] = df_merged['ballTrack'].apply(ball_x_snap)\n",
    "    df_merged['y_snap_ball'] = df_merged['ballTrack'].apply(ball_y_snap)\n",
    "    df_merged['x_1s'] = df_merged['coordinates'].apply(x_1s)\n",
    "    df_merged['y_1s'] = df_merged['coordinates'].apply(y_1s)\n",
    "    df_merged['x_3s'] = df_merged['coordinates'].apply(x_3s)\n",
    "    df_merged['y_3s'] = df_merged['coordinates'].apply(y_3s)\n",
    "    df_merged['x_2s'] = df_merged['coordinates'].apply(x_2s)\n",
    "    df_merged['y_2s'] = df_merged['coordinates'].apply(y_2s)\n",
    "    df_merged['x_end'] = df_merged['coordinates'].apply(x_end)\n",
    "    df_merged['y_end'] = df_merged['coordinates'].apply(y_end)\n",
    "    \n",
    "\n",
    "    \n",
    "print(df_merged.info())"
   ]
  },
  {
   "cell_type": "code",
   "execution_count": null,
   "metadata": {},
   "outputs": [],
   "source": []
  },
  {
   "cell_type": "code",
   "execution_count": 14,
   "metadata": {},
   "outputs": [],
   "source": [
    "# #Create LOS & QB position\n",
    "# c = df_merged[df_merged.position == 'C']\n",
    "# c['los'] = c['x_snap'] #line of scrimmage\n",
    "# c = pd.DataFrame(c, columns=['playId', 'gameId', 'los'])\n",
    "# #c.shape\n",
    "\n",
    "# qb = df_merged[df_merged.position == 'QB']\n",
    "# qb['qb_xend'] = qb['x_end'] #QB at end of play\n",
    "# qb['qb_yend'] = qb['y_end'] #QB at end of play\n",
    "# qb = pd.DataFrame(qb, columns=['playId', 'gameId', 'qb_xend', 'qb_yend'])\n",
    "# #qb.shape\n",
    "\n",
    "# c_qb = pd.merge(c, qb, how='left', on=['playId', 'gameId'])\n",
    "\n",
    "# ds = pd.merge(df_merged, c_qb, how='left', on=['playId', 'gameId'])"
   ]
  },
  {
   "cell_type": "code",
   "execution_count": null,
   "metadata": {},
   "outputs": [],
   "source": []
  },
  {
   "cell_type": "code",
   "execution_count": 65,
   "metadata": {},
   "outputs": [],
   "source": [
    "count_chk = df_merged.groupby(['unique_key'])['position'].count().reset_index()"
   ]
  },
  {
   "cell_type": "code",
   "execution_count": 66,
   "metadata": {},
   "outputs": [
    {
     "data": {
      "text/plain": [
       "position\n",
       "22    25651\n",
       "Name: unique_key, dtype: int64"
      ]
     },
     "execution_count": 66,
     "metadata": {},
     "output_type": "execute_result"
    }
   ],
   "source": [
    "count_chk.groupby('position')['unique_key'].count()"
   ]
  },
  {
   "cell_type": "code",
   "execution_count": 67,
   "metadata": {},
   "outputs": [],
   "source": [
    "ds = df_merged[df_merged['play_type'] == 'pass']"
   ]
  },
  {
   "cell_type": "code",
   "execution_count": 68,
   "metadata": {},
   "outputs": [
    {
     "data": {
      "text/plain": [
       "321596"
      ]
     },
     "execution_count": 68,
     "metadata": {},
     "output_type": "execute_result"
    }
   ],
   "source": [
    "ds.shape[0]"
   ]
  },
  {
   "cell_type": "code",
   "execution_count": 69,
   "metadata": {},
   "outputs": [],
   "source": [
    "team_mapping = {'DB': 'defense', 'OL': 'offense', 'LB': 'defense', 'DL': 'defense', \n",
    "                'WR': 'offense', 'RB': 'offense', 'TE': 'offense', 'QB': 'offense'}"
   ]
  },
  {
   "cell_type": "code",
   "execution_count": 70,
   "metadata": {},
   "outputs": [
    {
     "name": "stderr",
     "output_type": "stream",
     "text": [
      "/home/ec2-user/anaconda3/envs/python3/lib/python3.6/site-packages/ipykernel/__main__.py:1: SettingWithCopyWarning: \n",
      "A value is trying to be set on a copy of a slice from a DataFrame.\n",
      "Try using .loc[row_indexer,col_indexer] = value instead\n",
      "\n",
      "See the caveats in the documentation: https://pandas.pydata.org/pandas-docs/stable/user_guide/indexing.html#returning-a-view-versus-a-copy\n",
      "  if __name__ == '__main__':\n"
     ]
    }
   ],
   "source": [
    "ds['player_side'] = ds.positionGroup.map(team_mapping)"
   ]
  },
  {
   "cell_type": "code",
   "execution_count": 71,
   "metadata": {},
   "outputs": [
    {
     "name": "stderr",
     "output_type": "stream",
     "text": [
      "/home/ec2-user/anaconda3/envs/python3/lib/python3.6/site-packages/ipykernel/__main__.py:3: SettingWithCopyWarning: \n",
      "A value is trying to be set on a copy of a slice from a DataFrame.\n",
      "Try using .loc[row_indexer,col_indexer] = value instead\n",
      "\n",
      "See the caveats in the documentation: https://pandas.pydata.org/pandas-docs/stable/user_guide/indexing.html#returning-a-view-versus-a-copy\n",
      "  app.launch_new_instance()\n",
      "/home/ec2-user/anaconda3/envs/python3/lib/python3.6/site-packages/ipykernel/__main__.py:4: SettingWithCopyWarning: \n",
      "A value is trying to be set on a copy of a slice from a DataFrame.\n",
      "Try using .loc[row_indexer,col_indexer] = value instead\n",
      "\n",
      "See the caveats in the documentation: https://pandas.pydata.org/pandas-docs/stable/user_guide/indexing.html#returning-a-view-versus-a-copy\n",
      "/home/ec2-user/anaconda3/envs/python3/lib/python3.6/site-packages/ipykernel/__main__.py:5: SettingWithCopyWarning: \n",
      "A value is trying to be set on a copy of a slice from a DataFrame.\n",
      "Try using .loc[row_indexer,col_indexer] = value instead\n",
      "\n",
      "See the caveats in the documentation: https://pandas.pydata.org/pandas-docs/stable/user_guide/indexing.html#returning-a-view-versus-a-copy\n",
      "/home/ec2-user/anaconda3/envs/python3/lib/python3.6/site-packages/ipykernel/__main__.py:6: SettingWithCopyWarning: \n",
      "A value is trying to be set on a copy of a slice from a DataFrame.\n",
      "Try using .loc[row_indexer,col_indexer] = value instead\n",
      "\n",
      "See the caveats in the documentation: https://pandas.pydata.org/pandas-docs/stable/user_guide/indexing.html#returning-a-view-versus-a-copy\n",
      "/home/ec2-user/anaconda3/envs/python3/lib/python3.6/site-packages/ipykernel/__main__.py:7: SettingWithCopyWarning: \n",
      "A value is trying to be set on a copy of a slice from a DataFrame.\n",
      "Try using .loc[row_indexer,col_indexer] = value instead\n",
      "\n",
      "See the caveats in the documentation: https://pandas.pydata.org/pandas-docs/stable/user_guide/indexing.html#returning-a-view-versus-a-copy\n",
      "/home/ec2-user/anaconda3/envs/python3/lib/python3.6/site-packages/ipykernel/__main__.py:8: SettingWithCopyWarning: \n",
      "A value is trying to be set on a copy of a slice from a DataFrame.\n",
      "Try using .loc[row_indexer,col_indexer] = value instead\n",
      "\n",
      "See the caveats in the documentation: https://pandas.pydata.org/pandas-docs/stable/user_guide/indexing.html#returning-a-view-versus-a-copy\n",
      "/home/ec2-user/anaconda3/envs/python3/lib/python3.6/site-packages/ipykernel/__main__.py:9: SettingWithCopyWarning: \n",
      "A value is trying to be set on a copy of a slice from a DataFrame.\n",
      "Try using .loc[row_indexer,col_indexer] = value instead\n",
      "\n",
      "See the caveats in the documentation: https://pandas.pydata.org/pandas-docs/stable/user_guide/indexing.html#returning-a-view-versus-a-copy\n",
      "/home/ec2-user/anaconda3/envs/python3/lib/python3.6/site-packages/ipykernel/__main__.py:10: SettingWithCopyWarning: \n",
      "A value is trying to be set on a copy of a slice from a DataFrame.\n",
      "Try using .loc[row_indexer,col_indexer] = value instead\n",
      "\n",
      "See the caveats in the documentation: https://pandas.pydata.org/pandas-docs/stable/user_guide/indexing.html#returning-a-view-versus-a-copy\n"
     ]
    }
   ],
   "source": [
    "#add qb locations to all rows in play\n",
    "ds_qb = ds[ds['position'] == 'QB']\n",
    "ds_qb['qb_x_snap'] = ds_qb['x_snap']\n",
    "ds_qb['qb_x_1s'] = ds_qb['x_1s']\n",
    "ds_qb['qb_x_2s'] = ds_qb['x_2s']\n",
    "ds_qb['qb_x_3s'] = ds_qb['x_3s']\n",
    "ds_qb['qb_y_snap'] = ds_qb['y_snap']\n",
    "ds_qb['qb_y_1s'] = ds_qb['y_1s']\n",
    "ds_qb['qb_y_2s'] = ds_qb['y_2s']\n",
    "ds_qb['qb_y_3s'] = ds_qb['y_3s']\n",
    "ds_qb = ds_qb[['gameId', 'playId', 'qb_x_snap', 'qb_x_1s', 'qb_x_2s', 'qb_x_3s', 'qb_y_snap', 'qb_y_1s', 'qb_y_2s', 'qb_y_3s']]\n",
    "ds = pd.merge(ds, ds_qb, how = 'left', on = ['gameId', 'playId'])"
   ]
  },
  {
   "cell_type": "code",
   "execution_count": 72,
   "metadata": {},
   "outputs": [
    {
     "data": {
      "text/plain": [
       "321596"
      ]
     },
     "execution_count": 72,
     "metadata": {},
     "output_type": "execute_result"
    }
   ],
   "source": [
    "ds.shape[0]"
   ]
  },
  {
   "cell_type": "code",
   "execution_count": 23,
   "metadata": {},
   "outputs": [],
   "source": [
    "# #create movement variables\n",
    "# ds['vertPlay'] = ds['x_end'] - ds['x_snap']\n",
    "# ds['horizPlay'] = ds['y_end'] - ds['y_snap']\n",
    "# ds['vert3s'] = ds['x_3s'] - ds['x_snap']\n",
    "# ds['horiz3s'] = ds['y_3s'] - ds['y_snap']\n",
    "# ds['vert1s_toLOS'] = ds['x_1s'] - ds['x_snap_ball']\n",
    "# ds['horizs_toLOS'] = ds['y_1s'] - ds['y_snap_ball']\n",
    "# ds['vert3s_toLOS'] = ds['x_3s'] - ds['x_snap_ball']\n",
    "# ds['horiz3s_toLOS'] = ds['y_3s'] - ds['y_snap_ball']\n",
    "# ds['xfromQB'] = abs(ds['qb_xend'] - ds['x_end'])\n",
    "# ds['yfromQB'] = abs(ds['qb_yend'] - ds['y_end'])\n",
    "# ds['QBHurry'] = ds['xfromQB'] < 1\n",
    "#ds['vert3s_abs'] = abs(ds['x_3s'] - ds['x_snap'])\n",
    "#ds['horiz3s_abs'] = abs(ds['y_3s'] - ds['y_snap'])\n",
    "#ds['magnitude'] = math.sqrt((ds['y_end']-ds['y_snap'])**2 + (ds['x_end']-ds['x_snap'])**2)\n",
    "#ds['angle'] = math.atan2((ds['y_end']-ds['y_snap']),(ds['x_end']-ds['x_snap']))*(180/(math.pi))"
   ]
  },
  {
   "cell_type": "code",
   "execution_count": 79,
   "metadata": {},
   "outputs": [],
   "source": [
    "ds['x_player_pos_v_LOS'] = ds['x_snap'] - ds['x_snap_ball']\n",
    "ds['y_player_pos_v_LOS'] = ds['y_snap'] - ds['y_snap_ball']\n",
    "ds['x_1s_toLOS'] = ds['x_1s'] - ds['x_snap_ball']\n",
    "ds['y_1s_toLOS'] = ds['y_1s'] - ds['y_snap_ball']\n",
    "ds['x_2s_toLOS'] = ds['x_2s'] - ds['x_snap_ball']\n",
    "ds['y_2s_toLOS'] = ds['y_2s'] - ds['y_snap_ball']\n",
    "ds['x_3s_toLOS'] = ds['x_3s'] - ds['x_snap_ball']\n",
    "ds['y_3s_toLOS'] = ds['y_3s'] - ds['y_snap_ball']\n",
    "ds['qb_dist_snap'] = ((ds['x_snap'] - ds['qb_x_snap'])**2 + (ds['y_snap'] - ds['qb_y_snap'])**2)**0.5\n",
    "ds['qb_dist_1s'] = ((ds['x_1s'] - ds['qb_x_1s'])**2 + (ds['y_1s'] - ds['qb_y_1s'])**2)**0.5\n",
    "ds['qb_dist_2s'] = ((ds['x_2s'] - ds['qb_x_2s'])**2 + (ds['y_2s'] - ds['qb_y_2s'])**2)**0.5\n",
    "ds['qb_dist_3s'] = ((ds['x_3s'] - ds['qb_x_3s'])**2 + (ds['y_3s'] - ds['qb_y_3s'])**2)**0.5"
   ]
  },
  {
   "cell_type": "code",
   "execution_count": 80,
   "metadata": {},
   "outputs": [
    {
     "data": {
      "text/html": [
       "<div>\n",
       "<style scoped>\n",
       "    .dataframe tbody tr th:only-of-type {\n",
       "        vertical-align: middle;\n",
       "    }\n",
       "\n",
       "    .dataframe tbody tr th {\n",
       "        vertical-align: top;\n",
       "    }\n",
       "\n",
       "    .dataframe thead th {\n",
       "        text-align: right;\n",
       "    }\n",
       "</style>\n",
       "<table border=\"1\" class=\"dataframe\">\n",
       "  <thead>\n",
       "    <tr style=\"text-align: right;\">\n",
       "      <th></th>\n",
       "      <th>displayName</th>\n",
       "      <th>player_side</th>\n",
       "      <th>position</th>\n",
       "      <th>y_snap</th>\n",
       "      <th>y_snap_ball</th>\n",
       "    </tr>\n",
       "  </thead>\n",
       "  <tbody>\n",
       "    <tr>\n",
       "      <th>110</th>\n",
       "      <td>Bryan Bulaga</td>\n",
       "      <td>offense</td>\n",
       "      <td>OT</td>\n",
       "      <td>29.47</td>\n",
       "      <td>26.05</td>\n",
       "    </tr>\n",
       "    <tr>\n",
       "      <th>111</th>\n",
       "      <td>Jimmy Graham</td>\n",
       "      <td>offense</td>\n",
       "      <td>TE</td>\n",
       "      <td>32.64</td>\n",
       "      <td>26.05</td>\n",
       "    </tr>\n",
       "    <tr>\n",
       "      <th>112</th>\n",
       "      <td>Prince Amukamara</td>\n",
       "      <td>defense</td>\n",
       "      <td>CB</td>\n",
       "      <td>12.74</td>\n",
       "      <td>26.05</td>\n",
       "    </tr>\n",
       "    <tr>\n",
       "      <th>113</th>\n",
       "      <td>Buster Skrine</td>\n",
       "      <td>defense</td>\n",
       "      <td>CB</td>\n",
       "      <td>16.40</td>\n",
       "      <td>26.05</td>\n",
       "    </tr>\n",
       "    <tr>\n",
       "      <th>114</th>\n",
       "      <td>Aaron Rodgers</td>\n",
       "      <td>offense</td>\n",
       "      <td>QB</td>\n",
       "      <td>25.88</td>\n",
       "      <td>26.05</td>\n",
       "    </tr>\n",
       "    <tr>\n",
       "      <th>115</th>\n",
       "      <td>Danny Trevathan</td>\n",
       "      <td>defense</td>\n",
       "      <td>ILB</td>\n",
       "      <td>22.20</td>\n",
       "      <td>26.05</td>\n",
       "    </tr>\n",
       "    <tr>\n",
       "      <th>116</th>\n",
       "      <td>Akiem Hicks</td>\n",
       "      <td>defense</td>\n",
       "      <td>DT</td>\n",
       "      <td>20.10</td>\n",
       "      <td>26.05</td>\n",
       "    </tr>\n",
       "    <tr>\n",
       "      <th>117</th>\n",
       "      <td>David Bakhtiari</td>\n",
       "      <td>offense</td>\n",
       "      <td>T</td>\n",
       "      <td>22.44</td>\n",
       "      <td>26.05</td>\n",
       "    </tr>\n",
       "    <tr>\n",
       "      <th>118</th>\n",
       "      <td>Lane Taylor</td>\n",
       "      <td>offense</td>\n",
       "      <td>G</td>\n",
       "      <td>24.30</td>\n",
       "      <td>26.05</td>\n",
       "    </tr>\n",
       "    <tr>\n",
       "      <th>119</th>\n",
       "      <td>Khalil Mack</td>\n",
       "      <td>defense</td>\n",
       "      <td>OLB</td>\n",
       "      <td>31.56</td>\n",
       "      <td>26.05</td>\n",
       "    </tr>\n",
       "    <tr>\n",
       "      <th>120</th>\n",
       "      <td>Ha Ha Clinton-Dix</td>\n",
       "      <td>defense</td>\n",
       "      <td>FS</td>\n",
       "      <td>22.44</td>\n",
       "      <td>26.05</td>\n",
       "    </tr>\n",
       "    <tr>\n",
       "      <th>121</th>\n",
       "      <td>Davante Adams</td>\n",
       "      <td>offense</td>\n",
       "      <td>WR</td>\n",
       "      <td>35.40</td>\n",
       "      <td>26.05</td>\n",
       "    </tr>\n",
       "    <tr>\n",
       "      <th>122</th>\n",
       "      <td>Corey Linsley</td>\n",
       "      <td>offense</td>\n",
       "      <td>C</td>\n",
       "      <td>26.09</td>\n",
       "      <td>26.05</td>\n",
       "    </tr>\n",
       "    <tr>\n",
       "      <th>123</th>\n",
       "      <td>Kyle Fuller</td>\n",
       "      <td>defense</td>\n",
       "      <td>CB</td>\n",
       "      <td>38.95</td>\n",
       "      <td>26.05</td>\n",
       "    </tr>\n",
       "    <tr>\n",
       "      <th>124</th>\n",
       "      <td>Billy Turner</td>\n",
       "      <td>offense</td>\n",
       "      <td>OG</td>\n",
       "      <td>27.58</td>\n",
       "      <td>26.05</td>\n",
       "    </tr>\n",
       "    <tr>\n",
       "      <th>125</th>\n",
       "      <td>Eddie Goldman</td>\n",
       "      <td>defense</td>\n",
       "      <td>NT</td>\n",
       "      <td>26.02</td>\n",
       "      <td>26.05</td>\n",
       "    </tr>\n",
       "    <tr>\n",
       "      <th>126</th>\n",
       "      <td>Leonard Floyd</td>\n",
       "      <td>defense</td>\n",
       "      <td>OLB</td>\n",
       "      <td>34.27</td>\n",
       "      <td>26.05</td>\n",
       "    </tr>\n",
       "    <tr>\n",
       "      <th>127</th>\n",
       "      <td>Geronimo Allison</td>\n",
       "      <td>offense</td>\n",
       "      <td>WR</td>\n",
       "      <td>14.27</td>\n",
       "      <td>26.05</td>\n",
       "    </tr>\n",
       "    <tr>\n",
       "      <th>128</th>\n",
       "      <td>Aaron Jones</td>\n",
       "      <td>offense</td>\n",
       "      <td>RB</td>\n",
       "      <td>28.66</td>\n",
       "      <td>26.05</td>\n",
       "    </tr>\n",
       "    <tr>\n",
       "      <th>129</th>\n",
       "      <td>Eddie Jackson</td>\n",
       "      <td>defense</td>\n",
       "      <td>FS</td>\n",
       "      <td>32.14</td>\n",
       "      <td>26.05</td>\n",
       "    </tr>\n",
       "    <tr>\n",
       "      <th>130</th>\n",
       "      <td>Roquan Smith</td>\n",
       "      <td>defense</td>\n",
       "      <td>LB</td>\n",
       "      <td>28.44</td>\n",
       "      <td>26.05</td>\n",
       "    </tr>\n",
       "    <tr>\n",
       "      <th>131</th>\n",
       "      <td>Marquez Valdes-Scantling</td>\n",
       "      <td>offense</td>\n",
       "      <td>WR</td>\n",
       "      <td>16.33</td>\n",
       "      <td>26.05</td>\n",
       "    </tr>\n",
       "  </tbody>\n",
       "</table>\n",
       "</div>"
      ],
      "text/plain": [
       "                  displayName player_side position  y_snap  y_snap_ball\n",
       "110              Bryan Bulaga     offense       OT   29.47        26.05\n",
       "111              Jimmy Graham     offense       TE   32.64        26.05\n",
       "112          Prince Amukamara     defense       CB   12.74        26.05\n",
       "113             Buster Skrine     defense       CB   16.40        26.05\n",
       "114             Aaron Rodgers     offense       QB   25.88        26.05\n",
       "115           Danny Trevathan     defense      ILB   22.20        26.05\n",
       "116               Akiem Hicks     defense       DT   20.10        26.05\n",
       "117           David Bakhtiari     offense        T   22.44        26.05\n",
       "118               Lane Taylor     offense        G   24.30        26.05\n",
       "119               Khalil Mack     defense      OLB   31.56        26.05\n",
       "120         Ha Ha Clinton-Dix     defense       FS   22.44        26.05\n",
       "121             Davante Adams     offense       WR   35.40        26.05\n",
       "122             Corey Linsley     offense        C   26.09        26.05\n",
       "123               Kyle Fuller     defense       CB   38.95        26.05\n",
       "124              Billy Turner     offense       OG   27.58        26.05\n",
       "125             Eddie Goldman     defense       NT   26.02        26.05\n",
       "126             Leonard Floyd     defense      OLB   34.27        26.05\n",
       "127          Geronimo Allison     offense       WR   14.27        26.05\n",
       "128               Aaron Jones     offense       RB   28.66        26.05\n",
       "129             Eddie Jackson     defense       FS   32.14        26.05\n",
       "130              Roquan Smith     defense       LB   28.44        26.05\n",
       "131  Marquez Valdes-Scantling     offense       WR   16.33        26.05"
      ]
     },
     "execution_count": 80,
     "metadata": {},
     "output_type": "execute_result"
    }
   ],
   "source": [
    "ds[(ds['playId'] == 424) & (ds['gameId'] == 2019090500)][['displayName', 'player_side', 'position', 'y_snap', 'y_snap_ball']]"
   ]
  },
  {
   "cell_type": "code",
   "execution_count": 81,
   "metadata": {
    "scrolled": true
   },
   "outputs": [],
   "source": [
    "def_pl = ds[(ds.player_side == 'defense') ]"
   ]
  },
  {
   "cell_type": "code",
   "execution_count": 82,
   "metadata": {},
   "outputs": [
    {
     "data": {
      "text/plain": [
       "count    160717.000000\n",
       "mean         -4.433578\n",
       "std           4.598220\n",
       "min         -58.050000\n",
       "25%          -6.000000\n",
       "50%          -2.570000\n",
       "75%          -1.110000\n",
       "max          18.340000\n",
       "Name: x_player_pos_v_LOS, dtype: float64"
      ]
     },
     "execution_count": 82,
     "metadata": {},
     "output_type": "execute_result"
    }
   ],
   "source": [
    "def_pl['x_player_pos_v_LOS'].describe()\n"
   ]
  },
  {
   "cell_type": "code",
   "execution_count": 83,
   "metadata": {},
   "outputs": [
    {
     "data": {
      "text/plain": [
       "<matplotlib.axes._subplots.AxesSubplot at 0x7f5f68721978>"
      ]
     },
     "execution_count": 83,
     "metadata": {},
     "output_type": "execute_result"
    },
    {
     "data": {
      "image/png": "[encoded data removed]",
      "text/plain": [
       "<Figure size 432x288 with 1 Axes>"
      ]
     },
     "metadata": {
      "needs_background": "light"
     },
     "output_type": "display_data"
    }
   ],
   "source": [
    "def_pl['x_player_pos_v_LOS'].hist()"
   ]
  },
  {
   "cell_type": "code",
   "execution_count": 84,
   "metadata": {},
   "outputs": [
    {
     "data": {
      "text/plain": [
       "87"
      ]
     },
     "execution_count": 84,
     "metadata": {},
     "output_type": "execute_result"
    }
   ],
   "source": [
    "def_pl[def_pl['x_player_pos_v_LOS'] >= 0.5]['unique_key'].count()"
   ]
  },
  {
   "cell_type": "code",
   "execution_count": 85,
   "metadata": {},
   "outputs": [
    {
     "data": {
      "text/plain": [
       "<matplotlib.axes._subplots.AxesSubplot at 0x7f5f6875c2e8>"
      ]
     },
     "execution_count": 85,
     "metadata": {},
     "output_type": "execute_result"
    },
    {
     "data": {
      "image/png": "[encoded data removed]",
      "text/plain": [
       "<Figure size 432x288 with 1 Axes>"
      ]
     },
     "metadata": {
      "needs_background": "light"
     },
     "output_type": "display_data"
    }
   ],
   "source": [
    "def_pl['y_snap'].hist()"
   ]
  },
  {
   "cell_type": "code",
   "execution_count": 86,
   "metadata": {},
   "outputs": [
    {
     "data": {
      "text/plain": [
       "<matplotlib.axes._subplots.AxesSubplot at 0x7f5f39d8a6a0>"
      ]
     },
     "execution_count": 86,
     "metadata": {},
     "output_type": "execute_result"
    },
    {
     "data": {
      "image/png": "[encoded data removed]",
      "text/plain": [
       "<Figure size 432x288 with 1 Axes>"
      ]
     },
     "metadata": {
      "needs_background": "light"
     },
     "output_type": "display_data"
    }
   ],
   "source": [
    "def_pl['y_snap_ball'].hist()"
   ]
  },
  {
   "cell_type": "code",
   "execution_count": 87,
   "metadata": {},
   "outputs": [
    {
     "data": {
      "text/plain": [
       "<matplotlib.axes._subplots.AxesSubplot at 0x7f5f68726588>"
      ]
     },
     "execution_count": 87,
     "metadata": {},
     "output_type": "execute_result"
    },
    {
     "data": {
      "image/png": "[encoded data removed]",
      "text/plain": [
       "<Figure size 432x288 with 1 Axes>"
      ]
     },
     "metadata": {
      "needs_background": "light"
     },
     "output_type": "display_data"
    }
   ],
   "source": [
    "def_pl['y_snap_ball'][(def_pl['y_snap_ball'] <35) & (def_pl['y_snap_ball'] > 20)].hist()"
   ]
  },
  {
   "cell_type": "code",
   "execution_count": 92,
   "metadata": {},
   "outputs": [
    {
     "name": "stderr",
     "output_type": "stream",
     "text": [
      "/home/ec2-user/anaconda3/envs/python3/lib/python3.6/site-packages/ipykernel/__main__.py:2: SettingWithCopyWarning: \n",
      "A value is trying to be set on a copy of a slice from a DataFrame.\n",
      "Try using .loc[row_indexer,col_indexer] = value instead\n",
      "\n",
      "See the caveats in the documentation: https://pandas.pydata.org/pandas-docs/stable/user_guide/indexing.html#returning-a-view-versus-a-copy\n",
      "  from ipykernel import kernelapp as app\n",
      "/home/ec2-user/anaconda3/envs/python3/lib/python3.6/site-packages/ipykernel/__main__.py:3: SettingWithCopyWarning: \n",
      "A value is trying to be set on a copy of a slice from a DataFrame.\n",
      "Try using .loc[row_indexer,col_indexer] = value instead\n",
      "\n",
      "See the caveats in the documentation: https://pandas.pydata.org/pandas-docs/stable/user_guide/indexing.html#returning-a-view-versus-a-copy\n",
      "  app.launch_new_instance()\n",
      "/home/ec2-user/anaconda3/envs/python3/lib/python3.6/site-packages/ipykernel/__main__.py:4: SettingWithCopyWarning: \n",
      "A value is trying to be set on a copy of a slice from a DataFrame.\n",
      "Try using .loc[row_indexer,col_indexer] = value instead\n",
      "\n",
      "See the caveats in the documentation: https://pandas.pydata.org/pandas-docs/stable/user_guide/indexing.html#returning-a-view-versus-a-copy\n",
      "/home/ec2-user/anaconda3/envs/python3/lib/python3.6/site-packages/ipykernel/__main__.py:5: SettingWithCopyWarning: \n",
      "A value is trying to be set on a copy of a slice from a DataFrame.\n",
      "Try using .loc[row_indexer,col_indexer] = value instead\n",
      "\n",
      "See the caveats in the documentation: https://pandas.pydata.org/pandas-docs/stable/user_guide/indexing.html#returning-a-view-versus-a-copy\n",
      "/home/ec2-user/anaconda3/envs/python3/lib/python3.6/site-packages/ipykernel/__main__.py:6: SettingWithCopyWarning: \n",
      "A value is trying to be set on a copy of a slice from a DataFrame.\n",
      "Try using .loc[row_indexer,col_indexer] = value instead\n",
      "\n",
      "See the caveats in the documentation: https://pandas.pydata.org/pandas-docs/stable/user_guide/indexing.html#returning-a-view-versus-a-copy\n",
      "/home/ec2-user/anaconda3/envs/python3/lib/python3.6/site-packages/ipykernel/__main__.py:7: SettingWithCopyWarning: \n",
      "A value is trying to be set on a copy of a slice from a DataFrame.\n",
      "Try using .loc[row_indexer,col_indexer] = value instead\n",
      "\n",
      "See the caveats in the documentation: https://pandas.pydata.org/pandas-docs/stable/user_guide/indexing.html#returning-a-view-versus-a-copy\n",
      "/home/ec2-user/anaconda3/envs/python3/lib/python3.6/site-packages/ipykernel/__main__.py:8: SettingWithCopyWarning: \n",
      "A value is trying to be set on a copy of a slice from a DataFrame.\n",
      "Try using .loc[row_indexer,col_indexer] = value instead\n",
      "\n",
      "See the caveats in the documentation: https://pandas.pydata.org/pandas-docs/stable/user_guide/indexing.html#returning-a-view-versus-a-copy\n",
      "/home/ec2-user/anaconda3/envs/python3/lib/python3.6/site-packages/ipykernel/__main__.py:13: SettingWithCopyWarning: \n",
      "A value is trying to be set on a copy of a slice from a DataFrame.\n",
      "Try using .loc[row_indexer,col_indexer] = value instead\n",
      "\n",
      "See the caveats in the documentation: https://pandas.pydata.org/pandas-docs/stable/user_guide/indexing.html#returning-a-view-versus-a-copy\n"
     ]
    }
   ],
   "source": [
    "def_pl = ds[(ds.player_side == 'defense') & (def_pl.x_player_pos_v_LOS < 0.5)]\n",
    "def_pl['towardLOS'] = (def_pl['x_1s_toLOS'] > def_pl['x_player_pos_v_LOS'])\n",
    "def_pl['towardLOS2'] = (def_pl['x_3s_toLOS'] > def_pl['x_player_pos_v_LOS'])\n",
    "def_pl['crossLOS']  = (def_pl['x_2s_toLOS'] > -0.2)\n",
    "def_pl['crossLOS2']  = (def_pl['x_1s_toLOS'] > -0.2)\n",
    "def_pl['y_bounds'] = ((abs(def_pl['y_1s'] - def_pl['y_snap_ball']) < 7))\n",
    "def_pl['y_bounds2'] = ((abs(def_pl['y_3s'] - def_pl['y_snap_ball']) < 6))\n",
    "def_pl['DL_position'] = (def_pl['positionGroup'] == 'DL')\n",
    "#def_pl['rusher'] = (((def_pl['crossLOS2'] == True) | (def_pl['crossLOS'] == True)) &\n",
    "#                  ((def_pl['towardLOS'] == True) | (def_pl['towardLOS2'] == True)) &\n",
    "#                   ((def_pl['y_bounds'] == True) | (def_pl['y_bounds2'] == True)))  #| (def_pl['DL_position'] == True)\n",
    "\n",
    "def_pl['rusher'] = (((def_pl['crossLOS2'] == True) | (def_pl['crossLOS'] == True)) & ((def_pl['y_bounds'] == True) | (def_pl['y_bounds2'] == True))) \n",
    "# def_pl['rusher'] = (((def_pl['crossLOS2'] == True) | (def_pl['crossLOS'] == True)) & ((def_pl['y_bounds'] == True) | (def_pl['y_bounds2'] == True)) \n",
    "#                        | (def_pl['DL_position'] == True)) \n",
    "\n",
    "#def_pl['rusher'] = def_pl['crossLOS'] & def_pl['y_bounds']\n",
    "\n",
    "\n",
    "\n"
   ]
  },
  {
   "cell_type": "code",
   "execution_count": 93,
   "metadata": {},
   "outputs": [],
   "source": [
    "# def_pl = ds[(ds.player_side == 'defense') & (def_pl.x_player_pos_v_LOS < 0.5)]\n",
    "# def_pl['DL_position'] = (def_pl['positionGroup'] == 'DL')\n",
    "# def_pl['towardsQB_2s'] = (ds['qb_dist_snap'] > ds['qb_dist_2s'])\n",
    "# def_pl['towardsQB_1s'] = (ds['qb_dist_snap'] > ds['qb_dist_1s'])\n",
    "# def_pl['towardsQB_3s'] = (ds['qb_dist_snap'] > ds['qb_dist_3s'])\n",
    "# def_pl['y_bounds_2s'] = ((abs(def_pl['y_2s'] - def_pl['y_snap_ball']) < 7))\n",
    "# def_pl['crossLOS_1s']  = (def_pl['x_1s_toLOS'] > -0.1)\n",
    "# def_pl['crossLOS_2s']  = (def_pl['x_2s_toLOS'] > -0.1)\n",
    "# def_pl['crossLOS_3s']  = (def_pl['x_3s_toLOS'] > -0.1)\n",
    "# def_pl['rusher'] = (def_pl['DL_position'] == True) | (((def_pl['towardsQB_1s'] == True) | (def_pl['towardsQB_2s'] == True) | (def_pl['towardsQB_3s'] == True)) & \n",
    "#                         ((def_pl['crossLOS_3s'] == True) | (def_pl['crossLOS_2s'] == True) | (def_pl['crossLOS_1s'] == True)) )\n"
   ]
  },
  {
   "cell_type": "code",
   "execution_count": 94,
   "metadata": {},
   "outputs": [],
   "source": [
    "rusher = def_pl[(def_pl['rusher']) == True].groupby(['gameId', 'playId', 'dRushers'])['rusher'].sum().reset_index(name='rusher_cnt')"
   ]
  },
  {
   "cell_type": "code",
   "execution_count": 95,
   "metadata": {},
   "outputs": [],
   "source": [
    "rusher['diff'] = rusher['dRushers'] - rusher['rusher_cnt']"
   ]
  },
  {
   "cell_type": "code",
   "execution_count": 96,
   "metadata": {},
   "outputs": [
    {
     "data": {
      "text/plain": [
       " 0.0    11545\n",
       "-1.0     1300\n",
       " 1.0     1265\n",
       " 2.0      233\n",
       "-2.0      158\n",
       " 3.0       40\n",
       "-3.0       15\n",
       " 4.0       12\n",
       "-4.0        5\n",
       "-5.0        1\n",
       "Name: diff, dtype: int64"
      ]
     },
     "execution_count": 96,
     "metadata": {},
     "output_type": "execute_result"
    }
   ],
   "source": [
    "rusher['diff'].value_counts()"
   ]
  },
  {
   "cell_type": "code",
   "execution_count": 97,
   "metadata": {},
   "outputs": [
    {
     "data": {
      "text/plain": [
       "14574"
      ]
     },
     "execution_count": 97,
     "metadata": {},
     "output_type": "execute_result"
    }
   ],
   "source": [
    "len(rusher)"
   ]
  },
  {
   "cell_type": "code",
   "execution_count": 98,
   "metadata": {},
   "outputs": [
    {
     "data": {
      "text/plain": [
       "0.7899958943478856"
      ]
     },
     "execution_count": 98,
     "metadata": {},
     "output_type": "execute_result"
    }
   ],
   "source": [
    "11545/14614"
   ]
  },
  {
   "cell_type": "code",
   "execution_count": 99,
   "metadata": {},
   "outputs": [
    {
     "data": {
      "text/html": [
       "<div>\n",
       "<style scoped>\n",
       "    .dataframe tbody tr th:only-of-type {\n",
       "        vertical-align: middle;\n",
       "    }\n",
       "\n",
       "    .dataframe tbody tr th {\n",
       "        vertical-align: top;\n",
       "    }\n",
       "\n",
       "    .dataframe thead th {\n",
       "        text-align: right;\n",
       "    }\n",
       "</style>\n",
       "<table border=\"1\" class=\"dataframe\">\n",
       "  <thead>\n",
       "    <tr style=\"text-align: right;\">\n",
       "      <th></th>\n",
       "      <th>gameId</th>\n",
       "      <th>playId</th>\n",
       "      <th>dRushers</th>\n",
       "      <th>rusher_cnt</th>\n",
       "      <th>diff</th>\n",
       "    </tr>\n",
       "  </thead>\n",
       "  <tbody>\n",
       "    <tr>\n",
       "      <th>0</th>\n",
       "      <td>2019090500</td>\n",
       "      <td>71</td>\n",
       "      <td>4.0</td>\n",
       "      <td>3.0</td>\n",
       "      <td>1.0</td>\n",
       "    </tr>\n",
       "    <tr>\n",
       "      <th>16</th>\n",
       "      <td>2019090500</td>\n",
       "      <td>1909</td>\n",
       "      <td>4.0</td>\n",
       "      <td>3.0</td>\n",
       "      <td>1.0</td>\n",
       "    </tr>\n",
       "    <tr>\n",
       "      <th>21</th>\n",
       "      <td>2019090500</td>\n",
       "      <td>2488</td>\n",
       "      <td>4.0</td>\n",
       "      <td>3.0</td>\n",
       "      <td>1.0</td>\n",
       "    </tr>\n",
       "    <tr>\n",
       "      <th>40</th>\n",
       "      <td>2019090800</td>\n",
       "      <td>666</td>\n",
       "      <td>3.0</td>\n",
       "      <td>2.0</td>\n",
       "      <td>1.0</td>\n",
       "    </tr>\n",
       "    <tr>\n",
       "      <th>54</th>\n",
       "      <td>2019090800</td>\n",
       "      <td>2678</td>\n",
       "      <td>5.0</td>\n",
       "      <td>4.0</td>\n",
       "      <td>1.0</td>\n",
       "    </tr>\n",
       "    <tr>\n",
       "      <th>56</th>\n",
       "      <td>2019090800</td>\n",
       "      <td>3231</td>\n",
       "      <td>2.0</td>\n",
       "      <td>1.0</td>\n",
       "      <td>1.0</td>\n",
       "    </tr>\n",
       "    <tr>\n",
       "      <th>59</th>\n",
       "      <td>2019090800</td>\n",
       "      <td>3383</td>\n",
       "      <td>4.0</td>\n",
       "      <td>3.0</td>\n",
       "      <td>1.0</td>\n",
       "    </tr>\n",
       "    <tr>\n",
       "      <th>84</th>\n",
       "      <td>2019090801</td>\n",
       "      <td>1640</td>\n",
       "      <td>5.0</td>\n",
       "      <td>4.0</td>\n",
       "      <td>1.0</td>\n",
       "    </tr>\n",
       "    <tr>\n",
       "      <th>89</th>\n",
       "      <td>2019090801</td>\n",
       "      <td>2401</td>\n",
       "      <td>6.0</td>\n",
       "      <td>5.0</td>\n",
       "      <td>1.0</td>\n",
       "    </tr>\n",
       "    <tr>\n",
       "      <th>94</th>\n",
       "      <td>2019090801</td>\n",
       "      <td>3416</td>\n",
       "      <td>5.0</td>\n",
       "      <td>4.0</td>\n",
       "      <td>1.0</td>\n",
       "    </tr>\n",
       "  </tbody>\n",
       "</table>\n",
       "</div>"
      ],
      "text/plain": [
       "        gameId  playId  dRushers  rusher_cnt  diff\n",
       "0   2019090500      71       4.0         3.0   1.0\n",
       "16  2019090500    1909       4.0         3.0   1.0\n",
       "21  2019090500    2488       4.0         3.0   1.0\n",
       "40  2019090800     666       3.0         2.0   1.0\n",
       "54  2019090800    2678       5.0         4.0   1.0\n",
       "56  2019090800    3231       2.0         1.0   1.0\n",
       "59  2019090800    3383       4.0         3.0   1.0\n",
       "84  2019090801    1640       5.0         4.0   1.0\n",
       "89  2019090801    2401       6.0         5.0   1.0\n",
       "94  2019090801    3416       5.0         4.0   1.0"
      ]
     },
     "execution_count": 99,
     "metadata": {},
     "output_type": "execute_result"
    }
   ],
   "source": [
    "rusher[rusher['diff'] == 1].head(10)"
   ]
  },
  {
   "cell_type": "code",
   "execution_count": null,
   "metadata": {},
   "outputs": [],
   "source": []
  },
  {
   "cell_type": "code",
   "execution_count": null,
   "metadata": {},
   "outputs": [],
   "source": []
  },
  {
   "cell_type": "code",
   "execution_count": 100,
   "metadata": {},
   "outputs": [
    {
     "data": {
      "text/plain": [
       "160630"
      ]
     },
     "execution_count": 100,
     "metadata": {},
     "output_type": "execute_result"
    }
   ],
   "source": [
    "def_pl.shape[0]"
   ]
  },
  {
   "cell_type": "code",
   "execution_count": 101,
   "metadata": {},
   "outputs": [
    {
     "data": {
      "text/plain": [
       "DB    73932\n",
       "DL    44519\n",
       "LB    42179\n",
       "Name: positionGroup, dtype: int64"
      ]
     },
     "execution_count": 101,
     "metadata": {},
     "output_type": "execute_result"
    }
   ],
   "source": [
    "def_pl.positionGroup.value_counts()"
   ]
  },
  {
   "cell_type": "code",
   "execution_count": 102,
   "metadata": {
    "scrolled": true
   },
   "outputs": [
    {
     "data": {
      "text/html": [
       "<div>\n",
       "<style scoped>\n",
       "    .dataframe tbody tr th:only-of-type {\n",
       "        vertical-align: middle;\n",
       "    }\n",
       "\n",
       "    .dataframe tbody tr th {\n",
       "        vertical-align: top;\n",
       "    }\n",
       "\n",
       "    .dataframe thead th {\n",
       "        text-align: right;\n",
       "    }\n",
       "</style>\n",
       "<table border=\"1\" class=\"dataframe\">\n",
       "  <thead>\n",
       "    <tr style=\"text-align: right;\">\n",
       "      <th></th>\n",
       "      <th>playId</th>\n",
       "      <th>gameId</th>\n",
       "      <th>displayName</th>\n",
       "      <th>position</th>\n",
       "      <th>positionGroup</th>\n",
       "      <th>coordinates</th>\n",
       "      <th>play_type</th>\n",
       "      <th>yardlineNumber</th>\n",
       "      <th>playDesc</th>\n",
       "      <th>dInBox</th>\n",
       "      <th>...</th>\n",
       "      <th>qb_dist_2s</th>\n",
       "      <th>qb_dist_3s</th>\n",
       "      <th>towardLOS</th>\n",
       "      <th>towardLOS2</th>\n",
       "      <th>crossLOS</th>\n",
       "      <th>crossLOS2</th>\n",
       "      <th>y_bounds</th>\n",
       "      <th>y_bounds2</th>\n",
       "      <th>DL_position</th>\n",
       "      <th>rusher</th>\n",
       "    </tr>\n",
       "  </thead>\n",
       "  <tbody>\n",
       "    <tr>\n",
       "      <th>112</th>\n",
       "      <td>424</td>\n",
       "      <td>2019090500</td>\n",
       "      <td>Prince Amukamara</td>\n",
       "      <td>CB</td>\n",
       "      <td>DB</td>\n",
       "      <td>[[95.75, 12.82], [95.74, 12.81], [95.73, 12.8]...</td>\n",
       "      <td>pass</td>\n",
       "      <td>12.0</td>\n",
       "      <td>(Shotgun) A.Rodgers sacked at GB 5 for -7 yard...</td>\n",
       "      <td>5.0</td>\n",
       "      <td>...</td>\n",
       "      <td>22.181582</td>\n",
       "      <td>26.841753</td>\n",
       "      <td>False</td>\n",
       "      <td>False</td>\n",
       "      <td>False</td>\n",
       "      <td>False</td>\n",
       "      <td>False</td>\n",
       "      <td>False</td>\n",
       "      <td>False</td>\n",
       "      <td>False</td>\n",
       "    </tr>\n",
       "    <tr>\n",
       "      <th>113</th>\n",
       "      <td>424</td>\n",
       "      <td>2019090500</td>\n",
       "      <td>Buster Skrine</td>\n",
       "      <td>CB</td>\n",
       "      <td>DB</td>\n",
       "      <td>[[95.1, 16.27], [95.1, 16.3], [95.1, 16.32], [...</td>\n",
       "      <td>pass</td>\n",
       "      <td>12.0</td>\n",
       "      <td>(Shotgun) A.Rodgers sacked at GB 5 for -7 yard...</td>\n",
       "      <td>5.0</td>\n",
       "      <td>...</td>\n",
       "      <td>16.562322</td>\n",
       "      <td>14.359098</td>\n",
       "      <td>False</td>\n",
       "      <td>False</td>\n",
       "      <td>False</td>\n",
       "      <td>False</td>\n",
       "      <td>False</td>\n",
       "      <td>False</td>\n",
       "      <td>False</td>\n",
       "      <td>False</td>\n",
       "    </tr>\n",
       "    <tr>\n",
       "      <th>115</th>\n",
       "      <td>424</td>\n",
       "      <td>2019090500</td>\n",
       "      <td>Danny Trevathan</td>\n",
       "      <td>ILB</td>\n",
       "      <td>LB</td>\n",
       "      <td>[[94.61, 21.91], [94.59, 21.99], [94.56, 22.06...</td>\n",
       "      <td>pass</td>\n",
       "      <td>12.0</td>\n",
       "      <td>(Shotgun) A.Rodgers sacked at GB 5 for -7 yard...</td>\n",
       "      <td>5.0</td>\n",
       "      <td>...</td>\n",
       "      <td>5.542391</td>\n",
       "      <td>3.021854</td>\n",
       "      <td>True</td>\n",
       "      <td>True</td>\n",
       "      <td>True</td>\n",
       "      <td>False</td>\n",
       "      <td>True</td>\n",
       "      <td>True</td>\n",
       "      <td>False</td>\n",
       "      <td>True</td>\n",
       "    </tr>\n",
       "    <tr>\n",
       "      <th>116</th>\n",
       "      <td>424</td>\n",
       "      <td>2019090500</td>\n",
       "      <td>Akiem Hicks</td>\n",
       "      <td>DT</td>\n",
       "      <td>DL</td>\n",
       "      <td>[[97.42, 20.27], [97.43, 20.23], [97.44, 20.18...</td>\n",
       "      <td>pass</td>\n",
       "      <td>12.0</td>\n",
       "      <td>(Shotgun) A.Rodgers sacked at GB 5 for -7 yard...</td>\n",
       "      <td>5.0</td>\n",
       "      <td>...</td>\n",
       "      <td>5.685297</td>\n",
       "      <td>1.660903</td>\n",
       "      <td>True</td>\n",
       "      <td>True</td>\n",
       "      <td>True</td>\n",
       "      <td>True</td>\n",
       "      <td>True</td>\n",
       "      <td>True</td>\n",
       "      <td>True</td>\n",
       "      <td>True</td>\n",
       "    </tr>\n",
       "    <tr>\n",
       "      <th>119</th>\n",
       "      <td>424</td>\n",
       "      <td>2019090500</td>\n",
       "      <td>Khalil Mack</td>\n",
       "      <td>OLB</td>\n",
       "      <td>LB</td>\n",
       "      <td>[[97.61, 31.61], [97.61, 31.61], [97.61, 31.61...</td>\n",
       "      <td>pass</td>\n",
       "      <td>12.0</td>\n",
       "      <td>(Shotgun) A.Rodgers sacked at GB 5 for -7 yard...</td>\n",
       "      <td>5.0</td>\n",
       "      <td>...</td>\n",
       "      <td>2.674416</td>\n",
       "      <td>1.090046</td>\n",
       "      <td>True</td>\n",
       "      <td>True</td>\n",
       "      <td>True</td>\n",
       "      <td>True</td>\n",
       "      <td>True</td>\n",
       "      <td>True</td>\n",
       "      <td>False</td>\n",
       "      <td>True</td>\n",
       "    </tr>\n",
       "    <tr>\n",
       "      <th>...</th>\n",
       "      <td>...</td>\n",
       "      <td>...</td>\n",
       "      <td>...</td>\n",
       "      <td>...</td>\n",
       "      <td>...</td>\n",
       "      <td>...</td>\n",
       "      <td>...</td>\n",
       "      <td>...</td>\n",
       "      <td>...</td>\n",
       "      <td>...</td>\n",
       "      <td>...</td>\n",
       "      <td>...</td>\n",
       "      <td>...</td>\n",
       "      <td>...</td>\n",
       "      <td>...</td>\n",
       "      <td>...</td>\n",
       "      <td>...</td>\n",
       "      <td>...</td>\n",
       "      <td>...</td>\n",
       "      <td>...</td>\n",
       "      <td>...</td>\n",
       "    </tr>\n",
       "    <tr>\n",
       "      <th>315911</th>\n",
       "      <td>424</td>\n",
       "      <td>2019122912</td>\n",
       "      <td>Vita Vea</td>\n",
       "      <td>DT</td>\n",
       "      <td>DL</td>\n",
       "      <td>[[21.7, 29.32], [21.7, 29.31], [21.69, 29.31],...</td>\n",
       "      <td>pass</td>\n",
       "      <td>13.0</td>\n",
       "      <td>(Shotgun) M.Ryan pass incomplete short middle ...</td>\n",
       "      <td>7.0</td>\n",
       "      <td>...</td>\n",
       "      <td>3.722472</td>\n",
       "      <td>2.406200</td>\n",
       "      <td>True</td>\n",
       "      <td>True</td>\n",
       "      <td>True</td>\n",
       "      <td>True</td>\n",
       "      <td>True</td>\n",
       "      <td>True</td>\n",
       "      <td>True</td>\n",
       "      <td>True</td>\n",
       "    </tr>\n",
       "    <tr>\n",
       "      <th>315912</th>\n",
       "      <td>424</td>\n",
       "      <td>2019122912</td>\n",
       "      <td>Carlton Davis</td>\n",
       "      <td>CB</td>\n",
       "      <td>DB</td>\n",
       "      <td>[[14.28, 38.06], [14.28, 38.04], [14.27, 38.03...</td>\n",
       "      <td>pass</td>\n",
       "      <td>13.0</td>\n",
       "      <td>(Shotgun) M.Ryan pass incomplete short middle ...</td>\n",
       "      <td>7.0</td>\n",
       "      <td>...</td>\n",
       "      <td>16.547281</td>\n",
       "      <td>19.296520</td>\n",
       "      <td>True</td>\n",
       "      <td>False</td>\n",
       "      <td>False</td>\n",
       "      <td>False</td>\n",
       "      <td>False</td>\n",
       "      <td>True</td>\n",
       "      <td>False</td>\n",
       "      <td>False</td>\n",
       "    </tr>\n",
       "    <tr>\n",
       "      <th>315917</th>\n",
       "      <td>424</td>\n",
       "      <td>2019122912</td>\n",
       "      <td>Jamel Dean</td>\n",
       "      <td>CB</td>\n",
       "      <td>DB</td>\n",
       "      <td>[[15.43, 18.55], [15.42, 18.55], [15.41, 18.55...</td>\n",
       "      <td>pass</td>\n",
       "      <td>13.0</td>\n",
       "      <td>(Shotgun) M.Ryan pass incomplete short middle ...</td>\n",
       "      <td>7.0</td>\n",
       "      <td>...</td>\n",
       "      <td>20.515294</td>\n",
       "      <td>24.006976</td>\n",
       "      <td>False</td>\n",
       "      <td>False</td>\n",
       "      <td>False</td>\n",
       "      <td>False</td>\n",
       "      <td>False</td>\n",
       "      <td>False</td>\n",
       "      <td>False</td>\n",
       "      <td>False</td>\n",
       "    </tr>\n",
       "    <tr>\n",
       "      <th>315918</th>\n",
       "      <td>424</td>\n",
       "      <td>2019122912</td>\n",
       "      <td>Sean Murphy-Bunting</td>\n",
       "      <td>DB</td>\n",
       "      <td>DB</td>\n",
       "      <td>[[19.73, 21.32], [19.8, 21.28], [19.89, 21.22]...</td>\n",
       "      <td>pass</td>\n",
       "      <td>13.0</td>\n",
       "      <td>(Shotgun) M.Ryan pass incomplete short middle ...</td>\n",
       "      <td>7.0</td>\n",
       "      <td>...</td>\n",
       "      <td>17.067071</td>\n",
       "      <td>20.987792</td>\n",
       "      <td>False</td>\n",
       "      <td>False</td>\n",
       "      <td>False</td>\n",
       "      <td>False</td>\n",
       "      <td>False</td>\n",
       "      <td>False</td>\n",
       "      <td>False</td>\n",
       "      <td>False</td>\n",
       "    </tr>\n",
       "    <tr>\n",
       "      <th>315919</th>\n",
       "      <td>424</td>\n",
       "      <td>2019122912</td>\n",
       "      <td>Devin White</td>\n",
       "      <td>LB</td>\n",
       "      <td>LB</td>\n",
       "      <td>[[19.96, 25.08], [20.02, 25.03], [20.09, 24.98...</td>\n",
       "      <td>pass</td>\n",
       "      <td>13.0</td>\n",
       "      <td>(Shotgun) M.Ryan pass incomplete short middle ...</td>\n",
       "      <td>7.0</td>\n",
       "      <td>...</td>\n",
       "      <td>13.730623</td>\n",
       "      <td>14.605376</td>\n",
       "      <td>False</td>\n",
       "      <td>False</td>\n",
       "      <td>False</td>\n",
       "      <td>False</td>\n",
       "      <td>True</td>\n",
       "      <td>False</td>\n",
       "      <td>False</td>\n",
       "      <td>False</td>\n",
       "    </tr>\n",
       "  </tbody>\n",
       "</table>\n",
       "<p>77 rows × 60 columns</p>\n",
       "</div>"
      ],
      "text/plain": [
       "        playId      gameId          displayName position positionGroup  \\\n",
       "112        424  2019090500     Prince Amukamara       CB            DB   \n",
       "113        424  2019090500        Buster Skrine       CB            DB   \n",
       "115        424  2019090500      Danny Trevathan      ILB            LB   \n",
       "116        424  2019090500          Akiem Hicks       DT            DL   \n",
       "119        424  2019090500          Khalil Mack      OLB            LB   \n",
       "...        ...         ...                  ...      ...           ...   \n",
       "315911     424  2019122912             Vita Vea       DT            DL   \n",
       "315912     424  2019122912        Carlton Davis       CB            DB   \n",
       "315917     424  2019122912           Jamel Dean       CB            DB   \n",
       "315918     424  2019122912  Sean Murphy-Bunting       DB            DB   \n",
       "315919     424  2019122912          Devin White       LB            LB   \n",
       "\n",
       "                                              coordinates play_type  \\\n",
       "112     [[95.75, 12.82], [95.74, 12.81], [95.73, 12.8]...      pass   \n",
       "113     [[95.1, 16.27], [95.1, 16.3], [95.1, 16.32], [...      pass   \n",
       "115     [[94.61, 21.91], [94.59, 21.99], [94.56, 22.06...      pass   \n",
       "116     [[97.42, 20.27], [97.43, 20.23], [97.44, 20.18...      pass   \n",
       "119     [[97.61, 31.61], [97.61, 31.61], [97.61, 31.61...      pass   \n",
       "...                                                   ...       ...   \n",
       "315911  [[21.7, 29.32], [21.7, 29.31], [21.69, 29.31],...      pass   \n",
       "315912  [[14.28, 38.06], [14.28, 38.04], [14.27, 38.03...      pass   \n",
       "315917  [[15.43, 18.55], [15.42, 18.55], [15.41, 18.55...      pass   \n",
       "315918  [[19.73, 21.32], [19.8, 21.28], [19.89, 21.22]...      pass   \n",
       "315919  [[19.96, 25.08], [20.02, 25.03], [20.09, 24.98...      pass   \n",
       "\n",
       "        yardlineNumber                                           playDesc  \\\n",
       "112               12.0  (Shotgun) A.Rodgers sacked at GB 5 for -7 yard...   \n",
       "113               12.0  (Shotgun) A.Rodgers sacked at GB 5 for -7 yard...   \n",
       "115               12.0  (Shotgun) A.Rodgers sacked at GB 5 for -7 yard...   \n",
       "116               12.0  (Shotgun) A.Rodgers sacked at GB 5 for -7 yard...   \n",
       "119               12.0  (Shotgun) A.Rodgers sacked at GB 5 for -7 yard...   \n",
       "...                ...                                                ...   \n",
       "315911            13.0  (Shotgun) M.Ryan pass incomplete short middle ...   \n",
       "315912            13.0  (Shotgun) M.Ryan pass incomplete short middle ...   \n",
       "315917            13.0  (Shotgun) M.Ryan pass incomplete short middle ...   \n",
       "315918            13.0  (Shotgun) M.Ryan pass incomplete short middle ...   \n",
       "315919            13.0  (Shotgun) M.Ryan pass incomplete short middle ...   \n",
       "\n",
       "        dInBox  ...  qb_dist_2s  qb_dist_3s  towardLOS towardLOS2 crossLOS  \\\n",
       "112        5.0  ...   22.181582   26.841753      False      False    False   \n",
       "113        5.0  ...   16.562322   14.359098      False      False    False   \n",
       "115        5.0  ...    5.542391    3.021854       True       True     True   \n",
       "116        5.0  ...    5.685297    1.660903       True       True     True   \n",
       "119        5.0  ...    2.674416    1.090046       True       True     True   \n",
       "...        ...  ...         ...         ...        ...        ...      ...   \n",
       "315911     7.0  ...    3.722472    2.406200       True       True     True   \n",
       "315912     7.0  ...   16.547281   19.296520       True      False    False   \n",
       "315917     7.0  ...   20.515294   24.006976      False      False    False   \n",
       "315918     7.0  ...   17.067071   20.987792      False      False    False   \n",
       "315919     7.0  ...   13.730623   14.605376      False      False    False   \n",
       "\n",
       "       crossLOS2  y_bounds y_bounds2 DL_position  rusher  \n",
       "112        False     False     False       False   False  \n",
       "113        False     False     False       False   False  \n",
       "115        False      True      True       False    True  \n",
       "116         True      True      True        True    True  \n",
       "119         True      True      True       False    True  \n",
       "...          ...       ...       ...         ...     ...  \n",
       "315911      True      True      True        True    True  \n",
       "315912     False     False      True       False   False  \n",
       "315917     False     False     False       False   False  \n",
       "315918     False     False     False       False   False  \n",
       "315919     False      True     False       False   False  \n",
       "\n",
       "[77 rows x 60 columns]"
      ]
     },
     "execution_count": 102,
     "metadata": {},
     "output_type": "execute_result"
    }
   ],
   "source": [
    "def_pl[def_pl['playId'] == 424]"
   ]
  },
  {
   "cell_type": "code",
   "execution_count": 44,
   "metadata": {},
   "outputs": [],
   "source": [
    "#create variables for defenders rushing _ SFA\n",
    "\n",
    "\n",
    "#def_pl = ds[(ds.player_side == 'defense')]\n",
    "#def_pl['towardLOS'] = ((def_pl['x_player_pos_v_LOS'] < 0) & (def_pl['x_1s_toLOS'] > def_pl['x_player_pos_v_LOS'])) | ((def_pl['x_player_pos_v_LOS'] > 0) & (def_pl['x_1s_toLOS'] < def_pl['x_player_pos_v_LOS'])) \n",
    "#def_pl['towardLOS2'] = ((def_pl['x_player_pos_v_LOS'] < 0) & (def_pl['x_3s_toLOS'] > def_pl['x_player_pos_v_LOS'])) | ((def_pl['x_player_pos_v_LOS'] > 0) & (def_pl['x_3s_toLOS'] < def_pl['x_player_pos_v_LOS'])) \n",
    "#def_pl['crossLOS']  = ((def_pl['x_player_pos_v_LOS'] < 0) & (def_pl['x_3s_toLOS'] > 0)) | ((def_pl['x_player_pos_v_LOS'] > 0) & (def_pl['x_3s_toLOS'] < 0))\n",
    "#def_pl['crossLOS2']  = ((def_pl['x_player_pos_v_LOS'] < 0) & (def_pl['x_1s_toLOS'] > 0)) | ((def_pl['x_player_pos_v_LOS'] > 0) & (def_pl['x_1s_toLOS'] < 0))\n",
    "#def_pl['bounds'] = ((abs(def_pl['x_1s'] - def_pl['x_snap_ball']) < 15) & (abs(def_pl['y_1s'] - def_pl['y_snap_ball']) < 7))\n",
    "#def_pl['bounds2'] = ((abs(def_pl['x_3s'] - def_pl['x_snap_ball']) < 15) & (abs(def_pl['y_3s'] - def_pl['y_snap_ball']) < 7))\n",
    "#def_pl['DL_position'] = (def_pl['positionGroup'] == 'DL')\n",
    "#def_pl['rusher'] = ((((def_pl['crossLOS2'] == True) | (def_pl['crossLOS'] == True)) &\n",
    "#                     ((def_pl['towardLOS'] == True) | (def_pl['towardLOS2'] == True)) &\n",
    "#                    ((def_pl['bounds'] == True) | (def_pl['bounds2'] == True)) | (def_pl['DL_position'] == True)))\n"
   ]
  },
  {
   "cell_type": "code",
   "execution_count": 45,
   "metadata": {},
   "outputs": [],
   "source": [
    "# #create variables for defenders rushing\n",
    "# def_pl = ds[(ds.player_side == 'defense')]\n",
    "# def_pl['towardLOS'] = abs(def_pl['x_snap'] - def_pl['los']) > abs(def_pl['x_3s'] - def_pl['los'])\n",
    "# def_pl['crossLOS1'] = (def_pl['x_snap'] > def_pl['los']) & (def_pl['x_end'] < def_pl['los'])\n",
    "# def_pl['crossLOS2'] = (def_pl['x_snap'] < def_pl['los']) & (def_pl['x_end'] > def_pl['los'])\n",
    "# def_pl['crossLOS3'] = (def_pl['x_snap'] < def_pl['los']) & (def_pl['x_3s'] > def_pl['los'])\n",
    "# def_pl['crossLOS4'] = (def_pl['x_snap'] > def_pl['los']) & (def_pl['x_3s'] < def_pl['los'])\n",
    "# def_pl['crossLOS'] = (def_pl['crossLOS1'] == True) | (def_pl['crossLOS2'] == True) | (def_pl['crossLOS3'] == True) | (def_pl['crossLOS4'] == True)\n",
    "# def_pl['closeLOS'] = abs(def_pl['x_end'] - def_pl['los']) < 1\n",
    "# def_pl['rusher'] = (def_pl['crossLOS'] | def_pl['towardLOS']) & (abs(def_pl['x_snap'] - def_pl['los']) < 3)\n",
    "# def_pl_df = pd.DataFrame(def_pl, columns=['playId', 'gameId', 'displayName', 'position', 'positionGroup', 'play_type', 'playDesc', 'dInBox', 'dRushers', 'sack', 'qb_hit', 'los', 'x_snap', 'x_3s', 'towardLOS', 'xfromQB', 'yfromQB', 'QBHurry', 'crossLOS', 'closeLOS', 'rusher'])"
   ]
  },
  {
   "cell_type": "code",
   "execution_count": 46,
   "metadata": {},
   "outputs": [],
   "source": [
    "#def_pl[def_pl['crossLOS2'] == True] #plays 2179, 71, 93, 147\n",
    "#def_pl[def_pl['sack'] == 1] #play 126, 95, 380, 1269\n",
    "#def_pl[def_pl['rusher'] == True]\n",
    "# pd.set_option('display.max_columns', None)\n",
    "# def_pl_df[def_pl_df['playId'] == 424].sort_values(by=['xfromQB'])"
   ]
  },
  {
   "cell_type": "code",
   "execution_count": 69,
   "metadata": {},
   "outputs": [],
   "source": [
    "# def_pl_df.play_type.value_counts()"
   ]
  },
  {
   "cell_type": "code",
   "execution_count": 70,
   "metadata": {},
   "outputs": [],
   "source": [
    "# cross = pd.DataFrame(def_pl_df[(def_pl_df['play_type'] == 'pass') & (def_pl_df['crossLOS']) == True].groupby(['playId', 'dRushers'])['crossLOS'].value_counts().reset_index(name='crossLOS_cnt'))\n",
    "# cross['match'] = cross['dRushers'] == cross['crossLOS_cnt']\n",
    "# cross.groupby('dRushers')['match'].value_counts()"
   ]
  },
  {
   "cell_type": "code",
   "execution_count": 45,
   "metadata": {},
   "outputs": [],
   "source": [
    "counts = def_pl.groupby(['unique_key'])['position'].count().reset_index()"
   ]
  },
  {
   "cell_type": "code",
   "execution_count": 46,
   "metadata": {
    "scrolled": true
   },
   "outputs": [
    {
     "data": {
      "text/plain": [
       "position\n",
       "1         2\n",
       "2         1\n",
       "3         1\n",
       "6         1\n",
       "7         1\n",
       "9         5\n",
       "10      101\n",
       "11    14505\n",
       "Name: unique_key, dtype: int64"
      ]
     },
     "execution_count": 46,
     "metadata": {},
     "output_type": "execute_result"
    }
   ],
   "source": [
    "counts.groupby('position')['unique_key'].count()"
   ]
  },
  {
   "cell_type": "code",
   "execution_count": 47,
   "metadata": {},
   "outputs": [
    {
     "data": {
      "text/plain": [
       "array(['CB', 'ILB', 'DT', 'OLB', 'FS', 'LB', 'SS', 'NT', 'DE', 'DB',\n",
       "       'MLB', 'S', 'DL'], dtype=object)"
      ]
     },
     "execution_count": 47,
     "metadata": {},
     "output_type": "execute_result"
    }
   ],
   "source": [
    "def_pl['position'].unique()"
   ]
  },
  {
   "cell_type": "code",
   "execution_count": 48,
   "metadata": {},
   "outputs": [
    {
     "data": {
      "text/plain": [
       "160630"
      ]
     },
     "execution_count": 48,
     "metadata": {},
     "output_type": "execute_result"
    }
   ],
   "source": [
    "def_pl.shape[0]"
   ]
  },
  {
   "cell_type": "code",
   "execution_count": 74,
   "metadata": {},
   "outputs": [],
   "source": [
    "drop_keys = counts[counts['position'] == 10]['unique_key'].to_list()"
   ]
  },
  {
   "cell_type": "code",
   "execution_count": 51,
   "metadata": {},
   "outputs": [],
   "source": [
    "def_pl = def_pl[~def_pl['unique_key'].isin(drop_keys)]"
   ]
  },
  {
   "cell_type": "code",
   "execution_count": 52,
   "metadata": {},
   "outputs": [
    {
     "data": {
      "text/plain": [
       "160674"
      ]
     },
     "execution_count": 52,
     "metadata": {},
     "output_type": "execute_result"
    }
   ],
   "source": [
    "def_pl.shape[0]"
   ]
  },
  {
   "cell_type": "code",
   "execution_count": 83,
   "metadata": {},
   "outputs": [
    {
     "data": {
      "text/plain": [
       "0.7726161369193154"
      ]
     },
     "execution_count": 83,
     "metadata": {},
     "output_type": "execute_result"
    }
   ],
   "source": [
    "316/409"
   ]
  },
  {
   "cell_type": "code",
   "execution_count": 85,
   "metadata": {},
   "outputs": [
    {
     "data": {
      "text/plain": [
       "0.7970660146699267"
      ]
     },
     "execution_count": 85,
     "metadata": {},
     "output_type": "execute_result"
    }
   ],
   "source": [
    "326/409"
   ]
  },
  {
   "cell_type": "code",
   "execution_count": 81,
   "metadata": {},
   "outputs": [
    {
     "data": {
      "text/plain": [
       "409"
      ]
     },
     "execution_count": 81,
     "metadata": {},
     "output_type": "execute_result"
    }
   ],
   "source": [
    "len(rusher)"
   ]
  },
  {
   "cell_type": "code",
   "execution_count": 79,
   "metadata": {},
   "outputs": [
    {
     "data": {
      "text/plain": [
       "0.7726161369193154"
      ]
     },
     "execution_count": 79,
     "metadata": {},
     "output_type": "execute_result"
    }
   ],
   "source": [
    "(316/len(rusher))"
   ]
  },
  {
   "cell_type": "code",
   "execution_count": 103,
   "metadata": {},
   "outputs": [],
   "source": [
    "rusher_blitz = rusher[rusher['dRushers'] >= 5]"
   ]
  },
  {
   "cell_type": "code",
   "execution_count": 105,
   "metadata": {},
   "outputs": [
    {
     "data": {
      "text/html": [
       "<div>\n",
       "<style scoped>\n",
       "    .dataframe tbody tr th:only-of-type {\n",
       "        vertical-align: middle;\n",
       "    }\n",
       "\n",
       "    .dataframe tbody tr th {\n",
       "        vertical-align: top;\n",
       "    }\n",
       "\n",
       "    .dataframe thead th {\n",
       "        text-align: right;\n",
       "    }\n",
       "</style>\n",
       "<table border=\"1\" class=\"dataframe\">\n",
       "  <thead>\n",
       "    <tr style=\"text-align: right;\">\n",
       "      <th></th>\n",
       "      <th>gameId</th>\n",
       "      <th>playId</th>\n",
       "      <th>dRushers</th>\n",
       "      <th>rusher_cnt</th>\n",
       "      <th>diff</th>\n",
       "    </tr>\n",
       "  </thead>\n",
       "  <tbody>\n",
       "    <tr>\n",
       "      <th>0</th>\n",
       "      <td>2019090500</td>\n",
       "      <td>71</td>\n",
       "      <td>4.0</td>\n",
       "      <td>3.0</td>\n",
       "      <td>1.0</td>\n",
       "    </tr>\n",
       "    <tr>\n",
       "      <th>1</th>\n",
       "      <td>2019090500</td>\n",
       "      <td>95</td>\n",
       "      <td>4.0</td>\n",
       "      <td>4.0</td>\n",
       "      <td>0.0</td>\n",
       "    </tr>\n",
       "    <tr>\n",
       "      <th>2</th>\n",
       "      <td>2019090500</td>\n",
       "      <td>381</td>\n",
       "      <td>4.0</td>\n",
       "      <td>4.0</td>\n",
       "      <td>0.0</td>\n",
       "    </tr>\n",
       "    <tr>\n",
       "      <th>3</th>\n",
       "      <td>2019090500</td>\n",
       "      <td>424</td>\n",
       "      <td>5.0</td>\n",
       "      <td>5.0</td>\n",
       "      <td>0.0</td>\n",
       "    </tr>\n",
       "    <tr>\n",
       "      <th>4</th>\n",
       "      <td>2019090500</td>\n",
       "      <td>676</td>\n",
       "      <td>2.0</td>\n",
       "      <td>2.0</td>\n",
       "      <td>0.0</td>\n",
       "    </tr>\n",
       "    <tr>\n",
       "      <th>...</th>\n",
       "      <td>...</td>\n",
       "      <td>...</td>\n",
       "      <td>...</td>\n",
       "      <td>...</td>\n",
       "      <td>...</td>\n",
       "    </tr>\n",
       "    <tr>\n",
       "      <th>14569</th>\n",
       "      <td>2019122915</td>\n",
       "      <td>3807</td>\n",
       "      <td>5.0</td>\n",
       "      <td>5.0</td>\n",
       "      <td>0.0</td>\n",
       "    </tr>\n",
       "    <tr>\n",
       "      <th>14570</th>\n",
       "      <td>2019122915</td>\n",
       "      <td>3877</td>\n",
       "      <td>5.0</td>\n",
       "      <td>4.0</td>\n",
       "      <td>1.0</td>\n",
       "    </tr>\n",
       "    <tr>\n",
       "      <th>14571</th>\n",
       "      <td>2019122915</td>\n",
       "      <td>3955</td>\n",
       "      <td>4.0</td>\n",
       "      <td>4.0</td>\n",
       "      <td>0.0</td>\n",
       "    </tr>\n",
       "    <tr>\n",
       "      <th>14572</th>\n",
       "      <td>2019122915</td>\n",
       "      <td>3977</td>\n",
       "      <td>4.0</td>\n",
       "      <td>4.0</td>\n",
       "      <td>0.0</td>\n",
       "    </tr>\n",
       "    <tr>\n",
       "      <th>14573</th>\n",
       "      <td>2019122915</td>\n",
       "      <td>3999</td>\n",
       "      <td>4.0</td>\n",
       "      <td>4.0</td>\n",
       "      <td>0.0</td>\n",
       "    </tr>\n",
       "  </tbody>\n",
       "</table>\n",
       "<p>14574 rows × 5 columns</p>\n",
       "</div>"
      ],
      "text/plain": [
       "           gameId  playId  dRushers  rusher_cnt  diff\n",
       "0      2019090500      71       4.0         3.0   1.0\n",
       "1      2019090500      95       4.0         4.0   0.0\n",
       "2      2019090500     381       4.0         4.0   0.0\n",
       "3      2019090500     424       5.0         5.0   0.0\n",
       "4      2019090500     676       2.0         2.0   0.0\n",
       "...           ...     ...       ...         ...   ...\n",
       "14569  2019122915    3807       5.0         5.0   0.0\n",
       "14570  2019122915    3877       5.0         4.0   1.0\n",
       "14571  2019122915    3955       4.0         4.0   0.0\n",
       "14572  2019122915    3977       4.0         4.0   0.0\n",
       "14573  2019122915    3999       4.0         4.0   0.0\n",
       "\n",
       "[14574 rows x 5 columns]"
      ]
     },
     "execution_count": 105,
     "metadata": {},
     "output_type": "execute_result"
    }
   ],
   "source": [
    "rusher"
   ]
  },
  {
   "cell_type": "code",
   "execution_count": 106,
   "metadata": {},
   "outputs": [
    {
     "data": {
      "text/html": [
       "<div>\n",
       "<style scoped>\n",
       "    .dataframe tbody tr th:only-of-type {\n",
       "        vertical-align: middle;\n",
       "    }\n",
       "\n",
       "    .dataframe tbody tr th {\n",
       "        vertical-align: top;\n",
       "    }\n",
       "\n",
       "    .dataframe thead th {\n",
       "        text-align: right;\n",
       "    }\n",
       "</style>\n",
       "<table border=\"1\" class=\"dataframe\">\n",
       "  <thead>\n",
       "    <tr style=\"text-align: right;\">\n",
       "      <th></th>\n",
       "      <th>gameId</th>\n",
       "      <th>playId</th>\n",
       "      <th>dRushers</th>\n",
       "      <th>rusher_cnt</th>\n",
       "      <th>diff</th>\n",
       "    </tr>\n",
       "  </thead>\n",
       "  <tbody>\n",
       "    <tr>\n",
       "      <th>3</th>\n",
       "      <td>2019090500</td>\n",
       "      <td>424</td>\n",
       "      <td>5.0</td>\n",
       "      <td>5.0</td>\n",
       "      <td>0.0</td>\n",
       "    </tr>\n",
       "    <tr>\n",
       "      <th>5</th>\n",
       "      <td>2019090500</td>\n",
       "      <td>698</td>\n",
       "      <td>5.0</td>\n",
       "      <td>5.0</td>\n",
       "      <td>0.0</td>\n",
       "    </tr>\n",
       "    <tr>\n",
       "      <th>9</th>\n",
       "      <td>2019090500</td>\n",
       "      <td>1404</td>\n",
       "      <td>5.0</td>\n",
       "      <td>5.0</td>\n",
       "      <td>0.0</td>\n",
       "    </tr>\n",
       "    <tr>\n",
       "      <th>15</th>\n",
       "      <td>2019090500</td>\n",
       "      <td>1885</td>\n",
       "      <td>5.0</td>\n",
       "      <td>5.0</td>\n",
       "      <td>0.0</td>\n",
       "    </tr>\n",
       "    <tr>\n",
       "      <th>23</th>\n",
       "      <td>2019090500</td>\n",
       "      <td>2606</td>\n",
       "      <td>5.0</td>\n",
       "      <td>5.0</td>\n",
       "      <td>0.0</td>\n",
       "    </tr>\n",
       "    <tr>\n",
       "      <th>...</th>\n",
       "      <td>...</td>\n",
       "      <td>...</td>\n",
       "      <td>...</td>\n",
       "      <td>...</td>\n",
       "      <td>...</td>\n",
       "    </tr>\n",
       "    <tr>\n",
       "      <th>14566</th>\n",
       "      <td>2019122915</td>\n",
       "      <td>3722</td>\n",
       "      <td>6.0</td>\n",
       "      <td>6.0</td>\n",
       "      <td>0.0</td>\n",
       "    </tr>\n",
       "    <tr>\n",
       "      <th>14567</th>\n",
       "      <td>2019122915</td>\n",
       "      <td>3746</td>\n",
       "      <td>5.0</td>\n",
       "      <td>6.0</td>\n",
       "      <td>-1.0</td>\n",
       "    </tr>\n",
       "    <tr>\n",
       "      <th>14568</th>\n",
       "      <td>2019122915</td>\n",
       "      <td>3768</td>\n",
       "      <td>5.0</td>\n",
       "      <td>5.0</td>\n",
       "      <td>0.0</td>\n",
       "    </tr>\n",
       "    <tr>\n",
       "      <th>14569</th>\n",
       "      <td>2019122915</td>\n",
       "      <td>3807</td>\n",
       "      <td>5.0</td>\n",
       "      <td>5.0</td>\n",
       "      <td>0.0</td>\n",
       "    </tr>\n",
       "    <tr>\n",
       "      <th>14570</th>\n",
       "      <td>2019122915</td>\n",
       "      <td>3877</td>\n",
       "      <td>5.0</td>\n",
       "      <td>4.0</td>\n",
       "      <td>1.0</td>\n",
       "    </tr>\n",
       "  </tbody>\n",
       "</table>\n",
       "<p>4274 rows × 5 columns</p>\n",
       "</div>"
      ],
      "text/plain": [
       "           gameId  playId  dRushers  rusher_cnt  diff\n",
       "3      2019090500     424       5.0         5.0   0.0\n",
       "5      2019090500     698       5.0         5.0   0.0\n",
       "9      2019090500    1404       5.0         5.0   0.0\n",
       "15     2019090500    1885       5.0         5.0   0.0\n",
       "23     2019090500    2606       5.0         5.0   0.0\n",
       "...           ...     ...       ...         ...   ...\n",
       "14566  2019122915    3722       6.0         6.0   0.0\n",
       "14567  2019122915    3746       5.0         6.0  -1.0\n",
       "14568  2019122915    3768       5.0         5.0   0.0\n",
       "14569  2019122915    3807       5.0         5.0   0.0\n",
       "14570  2019122915    3877       5.0         4.0   1.0\n",
       "\n",
       "[4274 rows x 5 columns]"
      ]
     },
     "execution_count": 106,
     "metadata": {},
     "output_type": "execute_result"
    }
   ],
   "source": [
    "rusher_blitz"
   ]
  },
  {
   "cell_type": "code",
   "execution_count": 107,
   "metadata": {},
   "outputs": [
    {
     "data": {
      "text/plain": [
       " 0.0    3084\n",
       " 1.0     675\n",
       "-1.0     333\n",
       " 2.0     125\n",
       " 3.0      23\n",
       "-2.0      20\n",
       " 4.0      12\n",
       "-3.0       2\n",
       "Name: diff, dtype: int64"
      ]
     },
     "execution_count": 107,
     "metadata": {},
     "output_type": "execute_result"
    }
   ],
   "source": [
    "rusher_blitz['diff'].value_counts()"
   ]
  },
  {
   "cell_type": "code",
   "execution_count": 110,
   "metadata": {},
   "outputs": [
    {
     "data": {
      "text/plain": [
       "0.7215722976134769"
      ]
     },
     "execution_count": 110,
     "metadata": {},
     "output_type": "execute_result"
    }
   ],
   "source": [
    "3084/len(rusher_blitz)"
   ]
  },
  {
   "cell_type": "code",
   "execution_count": 108,
   "metadata": {},
   "outputs": [],
   "source": [
    "rusher_blitz_matches = rusher_blitz[rusher_blitz['diff'] == 0]"
   ]
  },
  {
   "cell_type": "code",
   "execution_count": 109,
   "metadata": {},
   "outputs": [],
   "source": [
    "rusher_blitz_matches[['gameId', 'playId']].to_csv('../common/data/blitz_plays.csv', index=False)"
   ]
  },
  {
   "cell_type": "code",
   "execution_count": 517,
   "metadata": {},
   "outputs": [
    {
     "data": {
      "text/plain": [
       "True     312\n",
       "False     99\n",
       "Name: match, dtype: int64"
      ]
     },
     "execution_count": 517,
     "metadata": {},
     "output_type": "execute_result"
    }
   ],
   "source": [
    "rusher = pd.DataFrame(def_pl[(def_pl['rusher']) == True].groupby(['playId', 'dRushers'])['rusher'].value_counts().reset_index(name='rusher_cnt'))\n",
    "rusher['match'] = rusher['dRushers'] == rusher['rusher_cnt']\n",
    "rusher['match'].value_counts()"
   ]
  },
  {
   "cell_type": "code",
   "execution_count": 518,
   "metadata": {},
   "outputs": [
    {
     "data": {
      "text/plain": [
       "True     247\n",
       "False    125\n",
       "Name: match, dtype: int64"
      ]
     },
     "execution_count": 518,
     "metadata": {},
     "output_type": "execute_result"
    }
   ],
   "source": [
    "rusher2 = def_pl_df[(def_pl_df['rusher'] == True)].groupby(['playId', 'dRushers', 'sack'])['rusher'].value_counts().reset_index(name='rusher_cnt')\n",
    "rusher2['match'] = abs(rusher2['dRushers'] - rusher2['rusher_cnt']) < 2\n",
    "rusher2['match'].value_counts()"
   ]
  },
  {
   "cell_type": "code",
   "execution_count": 30,
   "metadata": {},
   "outputs": [
    {
     "data": {
      "text/plain": [
       "positionGroup  dRushers\n",
       "DB             0.0          9.795000\n",
       "               1.0         13.345000\n",
       "               2.0         20.288140\n",
       "               3.0         20.581045\n",
       "               4.0         21.397761\n",
       "               5.0         18.783916\n",
       "               6.0         16.984000\n",
       "DL             0.0          4.546000\n",
       "               1.0          8.086000\n",
       "               2.0          8.493333\n",
       "               3.0          7.163200\n",
       "               4.0          5.030720\n",
       "               5.0          5.267368\n",
       "               6.0          5.876000\n",
       "LB             0.0          5.328571\n",
       "               1.0         11.484286\n",
       "               2.0         10.731111\n",
       "               3.0         10.812750\n",
       "               4.0         10.271236\n",
       "               5.0          7.494273\n",
       "               6.0          6.111429\n",
       "OL             0.0          3.683000\n",
       "               1.0          8.777000\n",
       "               2.0          8.150750\n",
       "               3.0          6.091833\n",
       "               4.0          4.265453\n",
       "               5.0          3.254750\n",
       "               6.0          3.736000\n",
       "QB             0.0          0.000000\n",
       "               1.0          0.000000\n",
       "               2.0          0.000000\n",
       "               3.0          0.000000\n",
       "               4.0          0.000000\n",
       "               5.0          0.000000\n",
       "               6.0          0.000000\n",
       "RB             0.0          5.336667\n",
       "               1.0          8.045000\n",
       "               2.0          7.604545\n",
       "               3.0         14.392353\n",
       "               4.0         12.931366\n",
       "               5.0          7.619318\n",
       "               6.0          4.605000\n",
       "TE             0.0          4.000000\n",
       "               1.0          9.990000\n",
       "               2.0         14.363750\n",
       "               3.0         13.755385\n",
       "               4.0         19.184600\n",
       "               5.0         11.795588\n",
       "               6.0         10.425000\n",
       "WR             0.0          3.988000\n",
       "               1.0          9.774545\n",
       "               2.0         16.817619\n",
       "               3.0         20.157000\n",
       "               4.0         20.050028\n",
       "               5.0         19.618902\n",
       "               6.0         19.236667\n",
       "Name: xfromQB, dtype: float64"
      ]
     },
     "execution_count": 30,
     "metadata": {},
     "output_type": "execute_result"
    }
   ],
   "source": [
    "ds.groupby(['positionGroup', 'dRushers'])['xfromQB'].mean()"
   ]
  },
  {
   "cell_type": "code",
   "execution_count": null,
   "metadata": {},
   "outputs": [],
   "source": []
  },
  {
   "cell_type": "code",
   "execution_count": 28,
   "metadata": {},
   "outputs": [],
   "source": [
    "#ds.to_pickle('../common/data/blitzing_metrics.pkl')"
   ]
  },
  {
   "cell_type": "code",
   "execution_count": null,
   "metadata": {},
   "outputs": [],
   "source": []
  }
 ],
 "metadata": {
  "kernelspec": {
   "display_name": "conda_python3",
   "language": "python",
   "name": "conda_python3"
  },
  "language_info": {
   "codemirror_mode": {
    "name": "ipython",
    "version": 3
   },
   "file_extension": ".py",
   "mimetype": "text/x-python",
   "name": "python",
   "nbconvert_exporter": "python",
   "pygments_lexer": "ipython3",
   "version": "3.6.10"
  }
 },
 "nbformat": 4,
 "nbformat_minor": 4
}
