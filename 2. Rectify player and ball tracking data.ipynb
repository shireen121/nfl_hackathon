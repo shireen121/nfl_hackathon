{
 "cells": [
  {
   "cell_type": "markdown",
   "metadata": {},
   "source": [
    "# This scripts does the following to rectify the player and ball tracking data\n",
    "(1) player tracking df: have all plays go R->L; remove rows with no ball info  \n",
    "(2) master df: Add column for snap ball pos; remove rows with no ball info; add RTLyardline  \n",
    "(3) ball tracking: add/remove rows before/after to align with player tracking; flip coords if necessary  "
   ]
  },
  {
   "cell_type": "code",
   "execution_count": 21,
   "metadata": {},
   "outputs": [],
   "source": [
    "import pandas as pd, numpy as np\n",
    "pd.set_option('display.max_rows', None)\n",
    "pd.set_option('display.max_columns', None)"
   ]
  },
  {
   "cell_type": "code",
   "execution_count": 22,
   "metadata": {},
   "outputs": [],
   "source": [
    "pds = pd.read_pickle(\"../data/master_player_df.pkl\")\n",
    "md = pd.read_csv(\"../data/master_play_table_v1.csv\", low_memory=False)\n",
    "bd = pd.read_pickle(\"../data/balltrack.pkl\")"
   ]
  },
  {
   "cell_type": "markdown",
   "metadata": {},
   "source": [
    "For each play, find play direction by referencing QB and C positions..."
   ]
  },
  {
   "cell_type": "code",
   "execution_count": null,
   "metadata": {},
   "outputs": [],
   "source": [
    "import pandasql as ps;\n",
    "q = (\"select gameId, playId from pds \" +\n",
    "     \"group by gameId, playId \" +\n",
    "     \"having sum(case when position = 'QB' then 1 else 0 end) = 1 and \" +\n",
    "     \"sum(case when position = 'C' then 1 else 0 end) = 1\")"
   ]
  },
  {
   "cell_type": "code",
   "execution_count": 24,
   "metadata": {},
   "outputs": [],
   "source": [
    "pds_qb = pds.query(\"position == 'QB'\")[['gameId', 'playId', 'coordinates']]\n",
    "pds_qb['coordinates'] = [c[0][0] for c in pds_qb['coordinates']]"
   ]
  },
  {
   "cell_type": "code",
   "execution_count": null,
   "metadata": {},
   "outputs": [],
   "source": [
    "#t = pds_qb.groupby(['gameId', 'playId']).size()\n",
    "#t = t.loc[t==1]"
   ]
  },
  {
   "cell_type": "code",
   "execution_count": 25,
   "metadata": {},
   "outputs": [],
   "source": [
    "pds_c = pds.query(\"position == 'C'\")[['gameId', 'playId', 'coordinates']]\n",
    "pds_c['ncoords']=[k.shape[0] for k in pds_c['coordinates']]\n",
    "pds_c['coordinates']=[c[0][0] for c in pds_c['coordinates']]"
   ]
  },
  {
   "cell_type": "code",
   "execution_count": 26,
   "metadata": {},
   "outputs": [],
   "source": [
    "qbcounts = pds_qb.groupby(['gameId', 'playId'])['coordinates'].count().reset_index()\n",
    "qbcounts.rename(columns = {'coordinates': 'count'}, inplace = True)"
   ]
  },
  {
   "cell_type": "code",
   "execution_count": 27,
   "metadata": {},
   "outputs": [],
   "source": [
    "c_counts = pds_c.groupby(['gameId', 'playId'])['coordinates'].count().reset_index()\n",
    "c_counts.rename(columns = {'coordinates': 'count'}, inplace = True)"
   ]
  },
  {
   "cell_type": "code",
   "execution_count": 28,
   "metadata": {},
   "outputs": [],
   "source": [
    "pds_qb1 = pd.merge(pds_qb, qbcounts, on = ['gameId', 'playId'], how = 'left')\n",
    "pds_c1 = pd.merge(pds_c, c_counts, on = ['gameId', 'playId'], how = 'left')"
   ]
  },
  {
   "cell_type": "code",
   "execution_count": 31,
   "metadata": {},
   "outputs": [],
   "source": [
    "pds_qb1 = pds_qb1[pds_qb1['count'] == 1]\n",
    "pds_c1 = pds_c1[pds_c1['count'] == 1]"
   ]
  },
  {
   "cell_type": "code",
   "execution_count": 35,
   "metadata": {},
   "outputs": [],
   "source": [
    "pds_m = pd.merge(pds_qb1, pds_c1, on=['gameId', 'playId'])"
   ]
  },
  {
   "cell_type": "code",
   "execution_count": 37,
   "metadata": {},
   "outputs": [],
   "source": [
    "playdir = pds_m.eval(\"dir=1*(coordinates_x>coordinates_y)\")[['gameId','playId','dir','ncoords']]"
   ]
  },
  {
   "cell_type": "markdown",
   "metadata": {},
   "source": [
    "dir == 0: Going the 'wrong' way"
   ]
  },
  {
   "cell_type": "markdown",
   "metadata": {},
   "source": [
    "Rectify ball tracking dataset"
   ]
  },
  {
   "cell_type": "code",
   "execution_count": 38,
   "metadata": {},
   "outputs": [],
   "source": [
    "bd = pd.merge(bd, playdir)"
   ]
  },
  {
   "cell_type": "code",
   "execution_count": 39,
   "metadata": {},
   "outputs": [],
   "source": [
    "#Rectify direction\n",
    "bd['ballTrack']= [b if d == 1 else np.round(np.array([120,53.3])-b,2) for (b,d) in zip(bd.ballTrack, bd.dir)]"
   ]
  },
  {
   "cell_type": "code",
   "execution_count": 40,
   "metadata": {},
   "outputs": [],
   "source": [
    "#rectify length of series\n",
    "bd['ballTrack']=[np.vstack((np.ones([20,1])*(x[0,:].T), x))[:y] for (x,y) in zip(bd['ballTrack'], bd['ncoords'])]"
   ]
  },
  {
   "cell_type": "code",
   "execution_count": 41,
   "metadata": {},
   "outputs": [],
   "source": [
    "bd.drop(\"ncoords\", axis=1, inplace=True)"
   ]
  },
  {
   "cell_type": "code",
   "execution_count": 42,
   "metadata": {},
   "outputs": [],
   "source": [
    "bd['snapPos']=[x[0,:] for x in bd['ballTrack']]\n",
    "# bd.drop('ballTrack', axis=1, inplace=True)"
   ]
  },
  {
   "cell_type": "markdown",
   "metadata": {},
   "source": [
    "Rectify player master"
   ]
  },
  {
   "cell_type": "code",
   "execution_count": 43,
   "metadata": {},
   "outputs": [],
   "source": [
    "pds=pd.merge(left=pds, right=bd[['gameId', 'playId', 'dir', 'snapPos']])"
   ]
  },
  {
   "cell_type": "code",
   "execution_count": 44,
   "metadata": {},
   "outputs": [],
   "source": [
    "#Rectify direction\n",
    "pds['coordinates']= [b if d == 1 else np.round(np.array([120,53.3])-b,2) for (b,d) in zip(pds.coordinates, pds.dir)]"
   ]
  },
  {
   "cell_type": "markdown",
   "metadata": {},
   "source": [
    "Rectify play master"
   ]
  },
  {
   "cell_type": "code",
   "execution_count": 45,
   "metadata": {},
   "outputs": [],
   "source": [
    "md=pd.merge(left=md, right=bd[['gameId', 'playId', 'dir', 'snapPos']])"
   ]
  },
  {
   "cell_type": "code",
   "execution_count": 46,
   "metadata": {},
   "outputs": [],
   "source": [
    "#Rectify direction\n",
    "md['rectYardline']= [b if d == 1 else np.round(120-b,2) for (b,d) in zip(md.absoluteYardlineNumber, md.dir)]"
   ]
  },
  {
   "cell_type": "code",
   "execution_count": 47,
   "metadata": {},
   "outputs": [],
   "source": [
    "pds.to_pickle(\"../data/player_play_rect.pkl\")\n",
    "md.to_pickle(\"../data/play_rect.pkl\")\n",
    "bd.to_pickle(\"../data/ball_rect.pkl\")"
   ]
  },
  {
   "cell_type": "code",
   "execution_count": null,
   "metadata": {},
   "outputs": [],
   "source": []
  }
 ],
 "metadata": {
  "kernelspec": {
   "display_name": "conda_python3",
   "language": "python",
   "name": "conda_python3"
  },
  "language_info": {
   "codemirror_mode": {
    "name": "ipython",
    "version": 3
   },
   "file_extension": ".py",
   "mimetype": "text/x-python",
   "name": "python",
   "nbconvert_exporter": "python",
   "pygments_lexer": "ipython3",
   "version": "3.6.10"
  }
 },
 "nbformat": 4,
 "nbformat_minor": 4
}
